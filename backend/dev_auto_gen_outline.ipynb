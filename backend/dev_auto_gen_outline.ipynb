{
 "cells": [
  {
   "cell_type": "code",
   "execution_count": 2,
   "id": "4a229a25-a6a7-4aff-a43e-3be634d254db",
   "metadata": {},
   "outputs": [],
   "source": [
    "from agents.outline_generator import OutlineGenerator\n",
    "\n",
    "\n",
    "og = OutlineGenerator()"
   ]
  },
  {
   "cell_type": "code",
   "execution_count": 9,
   "id": "95b41886-c169-4e96-8a6f-e0435d8a76c0",
   "metadata": {},
   "outputs": [
    {
     "data": {
      "text/plain": [
       "[Section(title='Benefits of Breakfast', questions=['what are the benefits of eating breakfast in the morning', 'how does breakfast improve concentration and focus', 'what are the health benefits of having breakfast'])]"
      ]
     },
     "execution_count": 9,
     "metadata": {},
     "output_type": "execute_result"
    }
   ],
   "source": [
    "message = \"Write a blog benefits of having breakfast\"\n",
    "request = {\n",
    "    \"message\": message\n",
    "}\n",
    "response = og.run(request)\n",
    "response.sections"
   ]
  },
  {
   "cell_type": "code",
   "execution_count": 10,
   "id": "1619cdb8-4d4e-473d-bdab-f89230bd63cb",
   "metadata": {},
   "outputs": [
    {
     "data": {
      "text/plain": [
       "[Section(title='Pasta Recipe for Kids', questions=['what type of pasta is best for kids', 'what ingredients do we need for the pasta recipe', 'how do we cook the pasta for kids', 'how do we make the pasta sauce for kids', 'how do we serve the pasta for kids'])]"
      ]
     },
     "execution_count": 10,
     "metadata": {},
     "output_type": "execute_result"
    }
   ],
   "source": [
    "message = \"Write a pasta recipe for kids\"\n",
    "request = {\n",
    "    \"message\": message\n",
    "}\n",
    "response = og.run(request)\n",
    "response.sections\n"
   ]
  },
  {
   "cell_type": "code",
   "execution_count": 11,
   "id": "2269521d-df54-4b63-84e1-6f840d0a5de1",
   "metadata": {},
   "outputs": [
    {
     "data": {
      "text/plain": [
       "[Section(title='Understanding Customer Segmentation', questions=['What is customer segmentation', 'Why is customer segmentation important', 'What are the benefits of customer segmentation']),\n",
       " Section(title='Data Collection and Preparation', questions=['What data is required for customer segmentation', 'How to collect and preprocess customer data', 'What are the common data sources for customer segmentation']),\n",
       " Section(title='Segmentation Techniques', questions=['What are the common customer segmentation techniques', 'How to use clustering algorithms for customer segmentation', 'How to use decision trees for customer segmentation']),\n",
       " Section(title='Implementing Customer Segmentation in Python', questions=['How to use Python libraries for customer segmentation', 'How to implement clustering algorithms in Python', 'How to use decision trees in Python for customer segmentation'])]"
      ]
     },
     "execution_count": 11,
     "metadata": {},
     "output_type": "execute_result"
    }
   ],
   "source": [
    "message = \"Write a guide to do customer segmentation in python\"\n",
    "request = {\n",
    "    \"message\": message\n",
    "}\n",
    "response = og.run(request)\n",
    "response.sections"
   ]
  },
  {
   "cell_type": "code",
   "execution_count": 12,
   "id": "f523ba01-5dc1-433c-aa0e-62beef37c72a",
   "metadata": {},
   "outputs": [
    {
     "data": {
      "text/plain": [
       "[Section(title='Pre-Client Meeting', questions=['what are the key questions to ask a new client', 'how to build rapport with a client', 'what are the essential documents to bring to a meeting']),\n",
       " Section(title='Policy Selection', questions=['how to determine the right policy for a client', 'what are the key factors to consider when selecting a policy', 'how to explain policy options to a client']),\n",
       " Section(title='Policy Application and Underwriting', questions=['how to complete a policy application', 'what are the key underwriting requirements', 'how to handle policy underwriting issues']),\n",
       " Section(title='Policy Issuance and Delivery', questions=['how to issue a policy to a client', 'what are the key delivery options', 'how to handle policy delivery issues']),\n",
       " Section(title='Ongoing Client Service', questions=['how to provide ongoing client service', 'what are the key communication channels', 'how to handle client inquiries and complaints'])]"
      ]
     },
     "execution_count": 12,
     "metadata": {},
     "output_type": "execute_result"
    }
   ],
   "source": [
    "message = \"Write a guideline for insurance agents\"\n",
    "request = {\n",
    "    \"message\": message\n",
    "}\n",
    "response = og.run(request)\n",
    "response.sections"
   ]
  },
  {
   "cell_type": "code",
   "execution_count": 13,
   "id": "b0e775a5-4035-480d-a5f0-e0bf0aab81b1",
   "metadata": {},
   "outputs": [
    {
     "data": {
      "text/plain": [
       "[Section(title='Insurance Business Analysis (2020-2025)', questions=['What were the key trends in the insurance industry in 2020?', 'How did the COVID-19 pandemic impact the insurance business in 2020-2021?', 'What were the major changes in insurance regulations between 2020 and 2025?', 'How did the rise of digitalization affect the insurance industry between 2020 and 2025?', 'What were the most significant challenges faced by the insurance industry between 2020 and 2025?'])]"
      ]
     },
     "execution_count": 13,
     "metadata": {},
     "output_type": "execute_result"
    }
   ],
   "source": [
    "message = \"Write an analysis of insurance business between 2020 and 2025\"\n",
    "request = {\n",
    "    \"message\": message\n",
    "}\n",
    "response = og.run(request)\n",
    "response.sections"
   ]
  },
  {
   "cell_type": "code",
   "execution_count": 14,
   "id": "d4993251-4230-4eeb-8f05-d16410ba5b59",
   "metadata": {},
   "outputs": [
    {
     "data": {
      "text/plain": [
       "[Section(title='Market Analysis for Life Insurance in Asia in 2025', questions=['What are the key trends driving the growth of the life insurance market in Asia in 2025?', 'What are the major players in the life insurance market in Asia in 2025?', 'What are the key challenges facing the life insurance market in Asia in 2025?', 'What are the opportunities for growth in the life insurance market in Asia in 2025?', 'What are the regulatory requirements for life insurance companies in Asia in 2025?']),\n",
       " Section(title='Market Size and Growth', questions=['What is the current size of the life insurance market in Asia in 2025?', 'What is the projected growth rate of the life insurance market in Asia in 2025?', 'What are the key drivers of growth in the life insurance market in Asia in 2025?']),\n",
       " Section(title='Competitive Landscape', questions=['Who are the major players in the life insurance market in Asia in 2025?', 'What are the key strategies employed by these players to gain market share?', 'What are the strengths and weaknesses of each player in the life insurance market in Asia in 2025?']),\n",
       " Section(title='Regulatory Environment', questions=['What are the key regulatory requirements for life insurance companies in Asia in 2025?', 'How do these regulations impact the life insurance market in Asia in 2025?', 'What are the implications of these regulations for life insurance companies in Asia in 2025?'])]"
      ]
     },
     "execution_count": 14,
     "metadata": {},
     "output_type": "execute_result"
    }
   ],
   "source": [
    "message = \"Write comprehensive market analysis for Life Insurance in Asia in 2025\"\n",
    "request = {\n",
    "    \"message\": message\n",
    "}\n",
    "response = og.run(request)\n",
    "response.sections"
   ]
  },
  {
   "cell_type": "code",
   "execution_count": null,
   "id": "249c56de-1f57-41f4-a274-9b45866211c0",
   "metadata": {},
   "outputs": [],
   "source": []
  }
 ],
 "metadata": {
  "kernelspec": {
   "display_name": "broai-rr",
   "language": "python",
   "name": "broai-rr"
  },
  "language_info": {
   "codemirror_mode": {
    "name": "ipython",
    "version": 3
   },
   "file_extension": ".py",
   "mimetype": "text/x-python",
   "name": "python",
   "nbconvert_exporter": "python",
   "pygments_lexer": "ipython3",
   "version": "3.11.12"
  }
 },
 "nbformat": 4,
 "nbformat_minor": 5
}
