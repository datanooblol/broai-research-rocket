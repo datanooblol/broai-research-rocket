{
 "cells": [
  {
   "cell_type": "code",
   "execution_count": 2,
   "id": "98237023-e0ca-48ed-856d-1bf9e74ed390",
   "metadata": {},
   "outputs": [
    {
     "name": "stdout",
     "output_type": "stream",
     "text": [
      "The autoreload extension is already loaded. To reload it, use:\n",
      "  %reload_ext autoreload\n"
     ]
    }
   ],
   "source": [
    "%load_ext autoreload\n",
    "%autoreload 2"
   ]
  },
  {
   "cell_type": "code",
   "execution_count": 3,
   "id": "d3032234-b42a-4fbe-ac72-1864ceaf0a44",
   "metadata": {},
   "outputs": [],
   "source": [
    "DB_NAME = \"research-rocket.db\""
   ]
  },
  {
   "cell_type": "code",
   "execution_count": 4,
   "id": "eed50a4e-a0c1-468c-bd27-d64a67fc2888",
   "metadata": {},
   "outputs": [],
   "source": [
    "from package.database.user.db import UserDB\n",
    "from package.database.session.db import SessionDB\n",
    "from package.database.web_register.db import WebDB"
   ]
  },
  {
   "cell_type": "code",
   "execution_count": 5,
   "id": "62594536-c324-4a34-adf8-dec3f5731265",
   "metadata": {},
   "outputs": [
    {
     "name": "stderr",
     "output_type": "stream",
     "text": [
      "/home/ec2-user/SageMaker/broai-research-rocket/.venv/lib/python3.11/site-packages/tqdm/auto.py:21: TqdmWarning: IProgress not found. Please update jupyter and ipywidgets. See https://ipywidgets.readthedocs.io/en/stable/user_install.html\n",
      "  from .autonotebook import tqdm as notebook_tqdm\n",
      "/tmp/ipykernel_28971/1802478919.py:3: UserWarning: [EXPERIMENT] You're using an experimental module, which is subject to change in future.: BAAIEmbedding\n",
      "  baai_em = BAAIEmbedding()\n",
      "Fetching 30 files: 100%|██████████| 30/30 [00:00<00:00, 207296.74it/s]\n"
     ]
    }
   ],
   "source": [
    "from broai.experiments.vector_store import DuckVectorStore\n",
    "from broai.experiments.huggingface_embedding import BAAIEmbedding\n",
    "baai_em = BAAIEmbedding()"
   ]
  },
  {
   "cell_type": "code",
   "execution_count": 6,
   "id": "53e19aaf-77db-4802-b7f3-cc4729da4417",
   "metadata": {},
   "outputs": [
    {
     "name": "stderr",
     "output_type": "stream",
     "text": [
      "/tmp/ipykernel_28971/1109848473.py:5: UserWarning: [EXPERIMENT] You're using an experimental module, which is subject to change in future.: DuckVectorStore\n",
      "  knowledgeDB = DuckVectorStore(\n",
      "You're using a XLMRobertaTokenizerFast tokenizer. Please note that with a fast tokenizer, using the `__call__` method is faster than using a method to encode the text followed by a call to the `pad` method to get a padded encoding.\n"
     ]
    }
   ],
   "source": [
    "userDB = UserDB(db_name=DB_NAME)\n",
    "sessionDB = SessionDB(db_name=DB_NAME)\n",
    "webDB = WebDB(db_name=DB_NAME)\n",
    "\n",
    "knowledgeDB = DuckVectorStore(\n",
    "            db_name=DB_NAME,\n",
    "            table=\"knowledge\",\n",
    "            embedding=baai_em\n",
    "        )"
   ]
  },
  {
   "cell_type": "code",
   "execution_count": null,
   "id": "c4efa547-ce8c-484a-a476-fc63ea41c835",
   "metadata": {},
   "outputs": [],
   "source": []
  }
 ],
 "metadata": {
  "kernelspec": {
   "display_name": "broai-rr",
   "language": "python",
   "name": "broai-rr"
  },
  "language_info": {
   "codemirror_mode": {
    "name": "ipython",
    "version": 3
   },
   "file_extension": ".py",
   "mimetype": "text/x-python",
   "name": "python",
   "nbconvert_exporter": "python",
   "pygments_lexer": "ipython3",
   "version": "3.11.12"
  }
 },
 "nbformat": 4,
 "nbformat_minor": 5
}
