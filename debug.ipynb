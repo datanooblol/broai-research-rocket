{
 "cells": [
  {
   "cell_type": "code",
   "execution_count": 1,
   "id": "98237023-e0ca-48ed-856d-1bf9e74ed390",
   "metadata": {},
   "outputs": [],
   "source": [
    "%load_ext autoreload\n",
    "%autoreload 2"
   ]
  },
  {
   "cell_type": "code",
   "execution_count": 2,
   "id": "d3032234-b42a-4fbe-ac72-1864ceaf0a44",
   "metadata": {},
   "outputs": [],
   "source": [
    "DB_NAME = \"research-rocket.db\""
   ]
  },
  {
   "cell_type": "code",
   "execution_count": 3,
   "id": "eed50a4e-a0c1-468c-bd27-d64a67fc2888",
   "metadata": {},
   "outputs": [],
   "source": [
    "from package.database.user.db import UserDB\n",
    "from package.database.session.db import SessionDB\n",
    "from package.database.web_register.db import WebDB"
   ]
  },
  {
   "cell_type": "code",
   "execution_count": 4,
   "id": "62594536-c324-4a34-adf8-dec3f5731265",
   "metadata": {},
   "outputs": [
    {
     "name": "stderr",
     "output_type": "stream",
     "text": [
      "/home/ec2-user/SageMaker/broai-research-rocket/.venv/lib/python3.11/site-packages/tqdm/auto.py:21: TqdmWarning: IProgress not found. Please update jupyter and ipywidgets. See https://ipywidgets.readthedocs.io/en/stable/user_install.html\n",
      "  from .autonotebook import tqdm as notebook_tqdm\n",
      "/tmp/ipykernel_20946/1802478919.py:3: UserWarning: [EXPERIMENT] You're using an experimental module, which is subject to change in future.: BAAIEmbedding\n",
      "  baai_em = BAAIEmbedding()\n",
      "Fetching 30 files: 100%|██████████| 30/30 [00:00<00:00, 192693.91it/s]\n"
     ]
    }
   ],
   "source": [
    "from broai.experiments.vector_store import DuckVectorStore\n",
    "from broai.experiments.huggingface_embedding import BAAIEmbedding\n",
    "baai_em = BAAIEmbedding()"
   ]
  },
  {
   "cell_type": "code",
   "execution_count": 5,
   "id": "53e19aaf-77db-4802-b7f3-cc4729da4417",
   "metadata": {},
   "outputs": [
    {
     "name": "stderr",
     "output_type": "stream",
     "text": [
      "/tmp/ipykernel_20946/1109848473.py:5: UserWarning: [EXPERIMENT] You're using an experimental module, which is subject to change in future.: DuckVectorStore\n",
      "  knowledgeDB = DuckVectorStore(\n",
      "You're using a XLMRobertaTokenizerFast tokenizer. Please note that with a fast tokenizer, using the `__call__` method is faster than using a method to encode the text followed by a call to the `pad` method to get a padded encoding.\n"
     ]
    }
   ],
   "source": [
    "userDB = UserDB(db_name=DB_NAME)\n",
    "sessionDB = SessionDB(db_name=DB_NAME)\n",
    "webDB = WebDB(db_name=DB_NAME)\n",
    "\n",
    "knowledgeDB = DuckVectorStore(\n",
    "            db_name=DB_NAME,\n",
    "            table=\"knowledge\",\n",
    "            embedding=baai_em\n",
    "        )"
   ]
  },
  {
   "cell_type": "code",
   "execution_count": 34,
   "id": "c4efa547-ce8c-484a-a476-fc63ea41c835",
   "metadata": {},
   "outputs": [
    {
     "data": {
      "text/html": [
       "<div>\n",
       "<style scoped>\n",
       "    .dataframe tbody tr th:only-of-type {\n",
       "        vertical-align: middle;\n",
       "    }\n",
       "\n",
       "    .dataframe tbody tr th {\n",
       "        vertical-align: top;\n",
       "    }\n",
       "\n",
       "    .dataframe thead th {\n",
       "        text-align: right;\n",
       "    }\n",
       "</style>\n",
       "<table border=\"1\" class=\"dataframe\">\n",
       "  <thead>\n",
       "    <tr style=\"text-align: right;\">\n",
       "      <th></th>\n",
       "      <th>session_id</th>\n",
       "      <th>user_id</th>\n",
       "      <th>tone_of_voice</th>\n",
       "      <th>outline</th>\n",
       "      <th>parsed_outline</th>\n",
       "      <th>step</th>\n",
       "      <th>step_remark</th>\n",
       "      <th>whitelist</th>\n",
       "      <th>knowledge</th>\n",
       "      <th>enrich</th>\n",
       "      <th>publish</th>\n",
       "      <th>created_at</th>\n",
       "      <th>updated_at</th>\n",
       "    </tr>\n",
       "  </thead>\n",
       "  <tbody>\n",
       "    <tr>\n",
       "      <th>0</th>\n",
       "      <td>804c099b-0342-4bb6-a98e-a02c0cca6533</td>\n",
       "      <td>671f8fd1-2ebd-47af-a9a8-66cfa476841b</td>\n",
       "      <td>Write a comprehensive analysis of Life Insuran...</td>\n",
       "      <td>## Market Overview\\n- What are the current tre...</td>\n",
       "      <td>[{\"section\":\"Market Overview\",\"questions\":[\"Wh...</td>\n",
       "      <td>publish</td>\n",
       "      <td>None</td>\n",
       "      <td>[]</td>\n",
       "      <td>{\"sections\":[{\"section\":\"Market Overview\",\"que...</td>\n",
       "      <td>{\"sections\":[{\"section\":\"Market Overview\",\"que...</td>\n",
       "      <td>## Market Overview\\n\\nThe life insurance indus...</td>\n",
       "      <td>2025-05-13 18:52:50.616616</td>\n",
       "      <td>2025-05-13 18:59:34.262292</td>\n",
       "    </tr>\n",
       "    <tr>\n",
       "      <th>1</th>\n",
       "      <td>a730b3db-d406-42e8-9c8e-c20acc8f188e</td>\n",
       "      <td>671f8fd1-2ebd-47af-a9a8-66cfa476841b</td>\n",
       "      <td>Write a blog for helping people understand tax</td>\n",
       "      <td>## Understanding Tax Basics\\n- what is tax and...</td>\n",
       "      <td>[{\"section\":\"Understanding Tax Basics\",\"questi...</td>\n",
       "      <td>publish</td>\n",
       "      <td>None</td>\n",
       "      <td>[]</td>\n",
       "      <td>{\"sections\":[{\"section\":\"Understanding Tax Bas...</td>\n",
       "      <td>{\"sections\":[{\"section\":\"Understanding Tax Bas...</td>\n",
       "      <td>## Understanding Tax Basics\\n\\nAs a crucial pa...</td>\n",
       "      <td>2025-05-13 20:16:46.433020</td>\n",
       "      <td>2025-05-13 20:21:35.884378</td>\n",
       "    </tr>\n",
       "  </tbody>\n",
       "</table>\n",
       "</div>"
      ],
      "text/plain": [
       "                             session_id                               user_id  \\\n",
       "0  804c099b-0342-4bb6-a98e-a02c0cca6533  671f8fd1-2ebd-47af-a9a8-66cfa476841b   \n",
       "1  a730b3db-d406-42e8-9c8e-c20acc8f188e  671f8fd1-2ebd-47af-a9a8-66cfa476841b   \n",
       "\n",
       "                                       tone_of_voice  \\\n",
       "0  Write a comprehensive analysis of Life Insuran...   \n",
       "1     Write a blog for helping people understand tax   \n",
       "\n",
       "                                             outline  \\\n",
       "0  ## Market Overview\\n- What are the current tre...   \n",
       "1  ## Understanding Tax Basics\\n- what is tax and...   \n",
       "\n",
       "                                      parsed_outline     step step_remark  \\\n",
       "0  [{\"section\":\"Market Overview\",\"questions\":[\"Wh...  publish        None   \n",
       "1  [{\"section\":\"Understanding Tax Basics\",\"questi...  publish        None   \n",
       "\n",
       "  whitelist                                          knowledge  \\\n",
       "0        []  {\"sections\":[{\"section\":\"Market Overview\",\"que...   \n",
       "1        []  {\"sections\":[{\"section\":\"Understanding Tax Bas...   \n",
       "\n",
       "                                              enrich  \\\n",
       "0  {\"sections\":[{\"section\":\"Market Overview\",\"que...   \n",
       "1  {\"sections\":[{\"section\":\"Understanding Tax Bas...   \n",
       "\n",
       "                                             publish  \\\n",
       "0  ## Market Overview\\n\\nThe life insurance indus...   \n",
       "1  ## Understanding Tax Basics\\n\\nAs a crucial pa...   \n",
       "\n",
       "                  created_at                 updated_at  \n",
       "0 2025-05-13 18:52:50.616616 2025-05-13 18:59:34.262292  \n",
       "1 2025-05-13 20:16:46.433020 2025-05-13 20:21:35.884378  "
      ]
     },
     "execution_count": 34,
     "metadata": {},
     "output_type": "execute_result"
    }
   ],
   "source": [
    "sessionDB.read_all()"
   ]
  },
  {
   "cell_type": "code",
   "execution_count": 14,
   "id": "b27e2020-760a-492f-8352-e62414f34d3e",
   "metadata": {},
   "outputs": [
    {
     "name": "stdout",
     "output_type": "stream",
     "text": [
      "https://www.invoca.com/blog/ultimate-guide-segmentation-ideal-customers\n"
     ]
    }
   ],
   "source": [
    "ret_contexts = knowledgeDB.search(\"Customer segmentation in business\")\n",
    "for c in ret_contexts:\n",
    "    print(c.metadata.get(\"source\"))"
   ]
  },
  {
   "cell_type": "code",
   "execution_count": 13,
   "id": "4fc6fb2e-209b-40bb-8a26-534351ca0cd4",
   "metadata": {},
   "outputs": [
    {
     "data": {
      "text/html": [
       "<div>\n",
       "<style scoped>\n",
       "    .dataframe tbody tr th:only-of-type {\n",
       "        vertical-align: middle;\n",
       "    }\n",
       "\n",
       "    .dataframe tbody tr th {\n",
       "        vertical-align: top;\n",
       "    }\n",
       "\n",
       "    .dataframe thead th {\n",
       "        text-align: right;\n",
       "    }\n",
       "</style>\n",
       "<table border=\"1\" class=\"dataframe\">\n",
       "  <thead>\n",
       "    <tr style=\"text-align: right;\">\n",
       "      <th></th>\n",
       "      <th>id</th>\n",
       "      <th>context</th>\n",
       "      <th>metadata</th>\n",
       "      <th>type</th>\n",
       "      <th>embedding</th>\n",
       "      <th>created_at</th>\n",
       "      <th>updated_at</th>\n",
       "    </tr>\n",
       "  </thead>\n",
       "  <tbody>\n",
       "    <tr>\n",
       "      <th>0</th>\n",
       "      <td>65671d0a-59cc-4889-9d41-22d37ea7ec8d</td>\n",
       "      <td>{\"data\":null,\"retryAfter\":52,\"retryAfterDate\":...</td>\n",
       "      <td>{\"source\":\"https://www.invoca.com/blog/ultimat...</td>\n",
       "      <td>document</td>\n",
       "      <td>[-0.0357666, 0.025939941, 0.0141067505, 0.0113...</td>\n",
       "      <td>2025-05-13 18:36:30.139821</td>\n",
       "      <td>2025-05-13 18:36:30.139821</td>\n",
       "    </tr>\n",
       "  </tbody>\n",
       "</table>\n",
       "</div>"
      ],
      "text/plain": [
       "                                     id  \\\n",
       "0  65671d0a-59cc-4889-9d41-22d37ea7ec8d   \n",
       "\n",
       "                                             context  \\\n",
       "0  {\"data\":null,\"retryAfter\":52,\"retryAfterDate\":...   \n",
       "\n",
       "                                            metadata      type  \\\n",
       "0  {\"source\":\"https://www.invoca.com/blog/ultimat...  document   \n",
       "\n",
       "                                           embedding  \\\n",
       "0  [-0.0357666, 0.025939941, 0.0141067505, 0.0113...   \n",
       "\n",
       "                  created_at                 updated_at  \n",
       "0 2025-05-13 18:36:30.139821 2025-05-13 18:36:30.139821  "
      ]
     },
     "execution_count": 13,
     "metadata": {},
     "output_type": "execute_result"
    }
   ],
   "source": [
    "knowledgeDB.read_all()"
   ]
  },
  {
   "cell_type": "code",
   "execution_count": 9,
   "id": "580955cb-4f1c-4584-bb42-b5bf9c55eba5",
   "metadata": {},
   "outputs": [
    {
     "data": {
      "text/html": [
       "<div>\n",
       "<style scoped>\n",
       "    .dataframe tbody tr th:only-of-type {\n",
       "        vertical-align: middle;\n",
       "    }\n",
       "\n",
       "    .dataframe tbody tr th {\n",
       "        vertical-align: top;\n",
       "    }\n",
       "\n",
       "    .dataframe thead th {\n",
       "        text-align: right;\n",
       "    }\n",
       "</style>\n",
       "<table border=\"1\" class=\"dataframe\">\n",
       "  <thead>\n",
       "    <tr style=\"text-align: right;\">\n",
       "      <th></th>\n",
       "      <th>url_id</th>\n",
       "      <th>session_id</th>\n",
       "      <th>url</th>\n",
       "      <th>content</th>\n",
       "      <th>status</th>\n",
       "      <th>remark</th>\n",
       "      <th>created_at</th>\n",
       "      <th>updated_at</th>\n",
       "    </tr>\n",
       "  </thead>\n",
       "  <tbody>\n",
       "    <tr>\n",
       "      <th>0</th>\n",
       "      <td>83b7ef24-f6ed-48b5-a17a-9a5b0d0525cc</td>\n",
       "      <td>1c62ed9f-5fda-418a-b567-4a7f832c1e40</td>\n",
       "      <td>https://www.healthline.com/nutrition/7-health-...</td>\n",
       "      <td>Staying hydrated can help support physical per...</td>\n",
       "      <td>done</td>\n",
       "      <td></td>\n",
       "      <td>2025-05-13 18:17:06.154051</td>\n",
       "      <td>2025-05-13 18:17:22.541964</td>\n",
       "    </tr>\n",
       "    <tr>\n",
       "      <th>1</th>\n",
       "      <td>25ba5ea6-3b4c-468b-8727-210547dd4d15</td>\n",
       "      <td>1c62ed9f-5fda-418a-b567-4a7f832c1e40</td>\n",
       "      <td>https://www.medicalnewstoday.com/articles/290814</td>\n",
       "      <td>28 Aug 2024 — Water is crucial for many bodily...</td>\n",
       "      <td>done</td>\n",
       "      <td></td>\n",
       "      <td>2025-05-13 18:17:06.154555</td>\n",
       "      <td>2025-05-13 18:17:22.542648</td>\n",
       "    </tr>\n",
       "    <tr>\n",
       "      <th>2</th>\n",
       "      <td>5bb0f09b-7d0d-41fe-af76-8aa6b6f2f220</td>\n",
       "      <td>1c62ed9f-5fda-418a-b567-4a7f832c1e40</td>\n",
       "      <td>https://www.healthhub.sg/live-healthy/the-drop...</td>\n",
       "      <td>Water Helps Reduce Constipation. Think of wate...</td>\n",
       "      <td>done</td>\n",
       "      <td></td>\n",
       "      <td>2025-05-13 18:17:06.154577</td>\n",
       "      <td>2025-05-13 18:17:22.542666</td>\n",
       "    </tr>\n",
       "    <tr>\n",
       "      <th>3</th>\n",
       "      <td>37c160cb-0cfb-40ee-a121-eb4c0caabc6c</td>\n",
       "      <td>1c62ed9f-5fda-418a-b567-4a7f832c1e40</td>\n",
       "      <td>https://www.cdc.gov/healthy-weight-growth/wate...</td>\n",
       "      <td>by BS Smart — Water helps your body: · Keep a ...</td>\n",
       "      <td>done</td>\n",
       "      <td></td>\n",
       "      <td>2025-05-13 18:17:06.154590</td>\n",
       "      <td>2025-05-13 18:17:22.542675</td>\n",
       "    </tr>\n",
       "    <tr>\n",
       "      <th>4</th>\n",
       "      <td>29848d0e-54f4-4cbc-9f91-b0d5ee2c1f22</td>\n",
       "      <td>1c62ed9f-5fda-418a-b567-4a7f832c1e40</td>\n",
       "      <td>https://www.webmd.com/diet/features/6-reasons-...</td>\n",
       "      <td>1 Jul 2024 — 1. Drinking Water Helps Maintain ...</td>\n",
       "      <td>done</td>\n",
       "      <td></td>\n",
       "      <td>2025-05-13 18:17:06.154602</td>\n",
       "      <td>2025-05-13 18:17:22.542684</td>\n",
       "    </tr>\n",
       "    <tr>\n",
       "      <th>...</th>\n",
       "      <td>...</td>\n",
       "      <td>...</td>\n",
       "      <td>...</td>\n",
       "      <td>...</td>\n",
       "      <td>...</td>\n",
       "      <td>...</td>\n",
       "      <td>...</td>\n",
       "      <td>...</td>\n",
       "    </tr>\n",
       "    <tr>\n",
       "      <th>153</th>\n",
       "      <td>9b10d1ac-90c4-4e2c-a8a5-5b5f2a3477af</td>\n",
       "      <td>4aeea55e-afa3-4660-bfc9-c46ab1045ecf</td>\n",
       "      <td>https://amoeboids.com/blog/customer-segmentati...</td>\n",
       "      <td>How to do Customer Segmentation? · Gather Data...</td>\n",
       "      <td>done</td>\n",
       "      <td></td>\n",
       "      <td>2025-05-13 18:23:15.931943</td>\n",
       "      <td>2025-05-13 18:23:51.034950</td>\n",
       "    </tr>\n",
       "    <tr>\n",
       "      <th>154</th>\n",
       "      <td>4561d530-64c9-461d-a80c-15d8bdbbf440</td>\n",
       "      <td>4aeea55e-afa3-4660-bfc9-c46ab1045ecf</td>\n",
       "      <td>https://www.linkedin.com/advice/1/what-role-ma...</td>\n",
       "      <td>7 Nov 2023 — It is a key tool for product deve...</td>\n",
       "      <td>done</td>\n",
       "      <td></td>\n",
       "      <td>2025-05-13 18:23:15.931960</td>\n",
       "      <td>2025-05-13 18:23:51.034956</td>\n",
       "    </tr>\n",
       "    <tr>\n",
       "      <th>155</th>\n",
       "      <td>e8cc5b25-372f-4464-9409-d919925e322e</td>\n",
       "      <td>4aeea55e-afa3-4660-bfc9-c46ab1045ecf</td>\n",
       "      <td>https://www.expressanalytics.com/blog/how-cust...</td>\n",
       "      <td>11 Feb 2021 — Customer segmentation can be a t...</td>\n",
       "      <td>done</td>\n",
       "      <td></td>\n",
       "      <td>2025-05-13 18:23:15.931978</td>\n",
       "      <td>2025-05-13 18:23:51.034964</td>\n",
       "    </tr>\n",
       "    <tr>\n",
       "      <th>156</th>\n",
       "      <td>1a3bf7fd-ac2c-4d1b-ae6d-e5656f5decb0</td>\n",
       "      <td>4aeea55e-afa3-4660-bfc9-c46ab1045ecf</td>\n",
       "      <td>https://userpilot.com/blog/customer-segmentati...</td>\n",
       "      <td>A customer segmentation strategy is a systemat...</td>\n",
       "      <td>done</td>\n",
       "      <td></td>\n",
       "      <td>2025-05-13 18:23:15.931996</td>\n",
       "      <td>2025-05-13 18:23:51.034972</td>\n",
       "    </tr>\n",
       "    <tr>\n",
       "      <th>157</th>\n",
       "      <td>86d3006e-8f3e-41ba-9f8a-041933aa0434</td>\n",
       "      <td>4aeea55e-afa3-4660-bfc9-c46ab1045ecf</td>\n",
       "      <td>https://www.putler.com/customer-segments/</td>\n",
       "      <td>29 Mar 2024 — To group your customers into mar...</td>\n",
       "      <td>done</td>\n",
       "      <td></td>\n",
       "      <td>2025-05-13 18:23:15.932013</td>\n",
       "      <td>2025-05-13 18:23:51.034979</td>\n",
       "    </tr>\n",
       "  </tbody>\n",
       "</table>\n",
       "<p>158 rows × 8 columns</p>\n",
       "</div>"
      ],
      "text/plain": [
       "                                   url_id  \\\n",
       "0    83b7ef24-f6ed-48b5-a17a-9a5b0d0525cc   \n",
       "1    25ba5ea6-3b4c-468b-8727-210547dd4d15   \n",
       "2    5bb0f09b-7d0d-41fe-af76-8aa6b6f2f220   \n",
       "3    37c160cb-0cfb-40ee-a121-eb4c0caabc6c   \n",
       "4    29848d0e-54f4-4cbc-9f91-b0d5ee2c1f22   \n",
       "..                                    ...   \n",
       "153  9b10d1ac-90c4-4e2c-a8a5-5b5f2a3477af   \n",
       "154  4561d530-64c9-461d-a80c-15d8bdbbf440   \n",
       "155  e8cc5b25-372f-4464-9409-d919925e322e   \n",
       "156  1a3bf7fd-ac2c-4d1b-ae6d-e5656f5decb0   \n",
       "157  86d3006e-8f3e-41ba-9f8a-041933aa0434   \n",
       "\n",
       "                               session_id  \\\n",
       "0    1c62ed9f-5fda-418a-b567-4a7f832c1e40   \n",
       "1    1c62ed9f-5fda-418a-b567-4a7f832c1e40   \n",
       "2    1c62ed9f-5fda-418a-b567-4a7f832c1e40   \n",
       "3    1c62ed9f-5fda-418a-b567-4a7f832c1e40   \n",
       "4    1c62ed9f-5fda-418a-b567-4a7f832c1e40   \n",
       "..                                    ...   \n",
       "153  4aeea55e-afa3-4660-bfc9-c46ab1045ecf   \n",
       "154  4aeea55e-afa3-4660-bfc9-c46ab1045ecf   \n",
       "155  4aeea55e-afa3-4660-bfc9-c46ab1045ecf   \n",
       "156  4aeea55e-afa3-4660-bfc9-c46ab1045ecf   \n",
       "157  4aeea55e-afa3-4660-bfc9-c46ab1045ecf   \n",
       "\n",
       "                                                   url  \\\n",
       "0    https://www.healthline.com/nutrition/7-health-...   \n",
       "1     https://www.medicalnewstoday.com/articles/290814   \n",
       "2    https://www.healthhub.sg/live-healthy/the-drop...   \n",
       "3    https://www.cdc.gov/healthy-weight-growth/wate...   \n",
       "4    https://www.webmd.com/diet/features/6-reasons-...   \n",
       "..                                                 ...   \n",
       "153  https://amoeboids.com/blog/customer-segmentati...   \n",
       "154  https://www.linkedin.com/advice/1/what-role-ma...   \n",
       "155  https://www.expressanalytics.com/blog/how-cust...   \n",
       "156  https://userpilot.com/blog/customer-segmentati...   \n",
       "157          https://www.putler.com/customer-segments/   \n",
       "\n",
       "                                               content status remark  \\\n",
       "0    Staying hydrated can help support physical per...   done          \n",
       "1    28 Aug 2024 — Water is crucial for many bodily...   done          \n",
       "2    Water Helps Reduce Constipation. Think of wate...   done          \n",
       "3    by BS Smart — Water helps your body: · Keep a ...   done          \n",
       "4    1 Jul 2024 — 1. Drinking Water Helps Maintain ...   done          \n",
       "..                                                 ...    ...    ...   \n",
       "153  How to do Customer Segmentation? · Gather Data...   done          \n",
       "154  7 Nov 2023 — It is a key tool for product deve...   done          \n",
       "155  11 Feb 2021 — Customer segmentation can be a t...   done          \n",
       "156  A customer segmentation strategy is a systemat...   done          \n",
       "157  29 Mar 2024 — To group your customers into mar...   done          \n",
       "\n",
       "                    created_at                 updated_at  \n",
       "0   2025-05-13 18:17:06.154051 2025-05-13 18:17:22.541964  \n",
       "1   2025-05-13 18:17:06.154555 2025-05-13 18:17:22.542648  \n",
       "2   2025-05-13 18:17:06.154577 2025-05-13 18:17:22.542666  \n",
       "3   2025-05-13 18:17:06.154590 2025-05-13 18:17:22.542675  \n",
       "4   2025-05-13 18:17:06.154602 2025-05-13 18:17:22.542684  \n",
       "..                         ...                        ...  \n",
       "153 2025-05-13 18:23:15.931943 2025-05-13 18:23:51.034950  \n",
       "154 2025-05-13 18:23:15.931960 2025-05-13 18:23:51.034956  \n",
       "155 2025-05-13 18:23:15.931978 2025-05-13 18:23:51.034964  \n",
       "156 2025-05-13 18:23:15.931996 2025-05-13 18:23:51.034972  \n",
       "157 2025-05-13 18:23:15.932013 2025-05-13 18:23:51.034979  \n",
       "\n",
       "[158 rows x 8 columns]"
      ]
     },
     "execution_count": 9,
     "metadata": {},
     "output_type": "execute_result"
    }
   ],
   "source": [
    "webDB.read_all()"
   ]
  },
  {
   "cell_type": "code",
   "execution_count": 15,
   "id": "8e07540e-a3f3-41c3-b6fb-1c4efd78f408",
   "metadata": {},
   "outputs": [],
   "source": [
    "from package.routers.v1.session.services.web_search import WebSearchService"
   ]
  },
  {
   "cell_type": "code",
   "execution_count": 16,
   "id": "16070c07-2cbb-455a-9977-8c5eb6ec7d5d",
   "metadata": {},
   "outputs": [],
   "source": [
    "wss = WebSearchService(webDB, sessionDB, knowledgeDB)"
   ]
  },
  {
   "cell_type": "code",
   "execution_count": 18,
   "id": "bae7a040-08e8-4866-b526-b040425e1778",
   "metadata": {},
   "outputs": [],
   "source": [
    "session_id = sessionDB.read_all()['session_id'].tolist()[0]"
   ]
  },
  {
   "cell_type": "code",
   "execution_count": 23,
   "id": "6731c43a-d71c-45f4-9196-aa5bdb739d39",
   "metadata": {},
   "outputs": [],
   "source": [
    "all_data = wss.load_all_json_files(session_id)"
   ]
  },
  {
   "cell_type": "code",
   "execution_count": 24,
   "id": "df29795a-ccf9-4749-a9b9-9c1d5552cffc",
   "metadata": {},
   "outputs": [
    {
     "data": {
      "text/plain": [
       "117"
      ]
     },
     "execution_count": 24,
     "metadata": {},
     "output_type": "execute_result"
    }
   ],
   "source": [
    "len(all_data)"
   ]
  },
  {
   "cell_type": "code",
   "execution_count": 26,
   "id": "fce2ad76-ddef-4bb7-b3b5-ac9d627bb9cc",
   "metadata": {},
   "outputs": [],
   "source": [
    "from broai.interface import Context\n",
    "from broai.experiments.chunk import split_overlap"
   ]
  },
  {
   "cell_type": "code",
   "execution_count": 27,
   "id": "e6b3133e-c382-4fed-b117-c4e3316988a7",
   "metadata": {},
   "outputs": [
    {
     "name": "stderr",
     "output_type": "stream",
     "text": [
      "/tmp/ipykernel_5198/1597514014.py:5: UserWarning: [EXPERIMENT] You're using an experimental module, which is subject to change in future.: split_overlap\n",
      "  contexts = split_overlap([context])\n"
     ]
    }
   ],
   "source": [
    "all_contexts = []\n",
    "for data in all_data:\n",
    "    url = list(data.keys())[0]\n",
    "    context = Context(context=data[url], metadata={\"source\": url})\n",
    "    contexts = split_overlap([context])\n",
    "    all_contexts.extend(contexts)"
   ]
  },
  {
   "cell_type": "code",
   "execution_count": 28,
   "id": "6e7a4e0a-264a-449e-a728-5d107739d85b",
   "metadata": {},
   "outputs": [
    {
     "data": {
      "text/plain": [
       "257"
      ]
     },
     "execution_count": 28,
     "metadata": {},
     "output_type": "execute_result"
    }
   ],
   "source": [
    "len(all_contexts)"
   ]
  },
  {
   "cell_type": "code",
   "execution_count": 29,
   "id": "d5459e6f-f6cc-455b-9f52-1b828c2630df",
   "metadata": {},
   "outputs": [
    {
     "name": "stderr",
     "output_type": "stream",
     "text": [
      "pre tokenize: 100%|██████████| 2/2 [00:00<00:00, 23.50it/s]\n",
      "Inference Embeddings: 100%|██████████| 2/2 [00:07<00:00,  3.89s/it]\n"
     ]
    }
   ],
   "source": [
    "knowledgeDB.add_contexts(all_contexts)"
   ]
  },
  {
   "cell_type": "code",
   "execution_count": 30,
   "id": "63a297ba-1640-4f47-bd4f-2978c681451b",
   "metadata": {},
   "outputs": [
    {
     "data": {
      "text/plain": [
       "(258, 7)"
      ]
     },
     "execution_count": 30,
     "metadata": {},
     "output_type": "execute_result"
    }
   ],
   "source": [
    "knowledgeDB.read_all().shape"
   ]
  },
  {
   "cell_type": "code",
   "execution_count": 22,
   "id": "146fbd47-e7ce-472c-919c-4d312113af67",
   "metadata": {},
   "outputs": [],
   "source": [
    "from package.routers.v1.session.services.enrich import EnrichService\n",
    "\n",
    "en_ser = EnrichService(sessionDB, knowledgeDB)"
   ]
  },
  {
   "cell_type": "code",
   "execution_count": 23,
   "id": "3f0d9c4b-a6ee-433f-bc15-ebb426e34411",
   "metadata": {},
   "outputs": [],
   "source": [
    "session_id = sessionDB.read_all()['session_id'].tolist()[-1]"
   ]
  },
  {
   "cell_type": "code",
   "execution_count": 36,
   "id": "84fddc0d-5818-446f-a42a-5021725443ba",
   "metadata": {},
   "outputs": [],
   "source": [
    "se = en_ser.exp_enrich(session_id)"
   ]
  },
  {
   "cell_type": "code",
   "execution_count": 38,
   "id": "2d183350-90ba-4aa8-bce8-9bdee9fc5ad7",
   "metadata": {},
   "outputs": [
    {
     "data": {
      "text/plain": [
       "'a730b3db-d406-42e8-9c8e-c20acc8f188e'"
      ]
     },
     "execution_count": 38,
     "metadata": {},
     "output_type": "execute_result"
    }
   ],
   "source": [
    "se.session_id"
   ]
  },
  {
   "cell_type": "code",
   "execution_count": 39,
   "id": "c3ccd3ee-3b8e-4b91-b275-d5b0b3aea895",
   "metadata": {},
   "outputs": [
    {
     "data": {
      "text/plain": [
       "'revise'"
      ]
     },
     "execution_count": 39,
     "metadata": {},
     "output_type": "execute_result"
    }
   ],
   "source": [
    "se.step"
   ]
  },
  {
   "cell_type": "code",
   "execution_count": 40,
   "id": "3e932df1-fca4-4e1c-b821-8979aa408df7",
   "metadata": {},
   "outputs": [
    {
     "data": {
      "text/plain": [
       "Enrich(sections=[EnrichSection(section='Understanding Tax Basics', questions=[EnrichQuestion(question='what is tax and why is it necessary', answer=\"Based on the provided context, a tax is a mandatory financial charge or levy imposed on an individual or legal entity by a governmental organization to support government spending and public expenditures collectively or to regulate and reduce negative externalities [1]. Taxes are necessary to raise revenue to fund governing, to alter prices in order to affect demand, or to regulate some form of cost or benefit [2]. The purposes of taxation include raising revenue for government spending, redistributing wealth, and influencing economic behavior [3]. \\n\\nThere are different types of taxes, including direct taxes, such as income tax, and indirect taxes, such as sales tax, value-added tax, and excise tax [1]. Indirect taxes are levied on goods and services and are typically passed on to the consumer [1]. The four key types of indirect tax are sales tax, excise tax, value-added tax (VAT), and gross receipts tax [1]. \\n\\nTaxes are necessary for governments to fund public goods and services, such as education, healthcare, and infrastructure [4]. They also help to reduce income inequality by redistributing wealth from the rich to the poor [5]. Additionally, taxes can be used to influence economic behavior, such as discouraging the consumption of certain goods or services [6]. \\n\\nIn summary, taxes are a necessary part of a country's economic system, and they play a crucial role in funding government spending, redistributing wealth, and influencing economic behavior.\\n\\nReferences:\\n- [1] https://tax.thomsonreuters.com/blog/direct-vs-indirect-tax-the-differences/\\n- [2] https://en.wikipedia.org/wiki/Tax\\n- [3] https://en.wikipedia.org/wiki/List_of_taxes \\n- [4] https://en.wikipedia.org/wiki/Tax\\n- [5] https://en.wikipedia.org/wiki/Tax\\n- [6] https://en.wikipedia.org/wiki/Tax\"), EnrichQuestion(question='what are the different types of taxes', answer='Based on the provided context, there are several types of taxes that can be categorized into three main groups: taxes on what you earn, taxes on what you buy, and taxes on what you own [1, 2, 3, 4]. \\n\\nTaxes on what you earn include individual income taxes, corporate income taxes, payroll taxes, and capital gains taxes [1]. Individual income taxes are levied on the wages, salaries, investments, or other forms of income an individual or household earns [1]. Income taxes can be structured to be regressive, proportional, or progressive, with the U.S. federal income tax system being progressive [2]. \\n\\nTaxes on what you buy include sales taxes, gross receipts taxes, value-added taxes, and excise taxes [1]. Sales taxes are paid by the consumer when buying most goods and services and provide state and local revenue [3]. \\n\\nTaxes on what you own include property taxes, tangible personal property taxes, estate and inheritance taxes, and wealth taxes [1]. Property taxes are taxes imposed on assets and generate revenue at a local level [2, 3]. \\n\\nAdditionally, consumption taxes, such as sales taxes, are taxes on the money people spend, not the money people earn [4]. \\n\\nReferences:\\n- [1] https://taxfoundation.org/taxedu/primers/primer-the-three-basic-tax-types/\\n- [2] https://courses.lumenlearning.com/suny-microeconomics/chapter/reading-types-of-taxes-2/\\n- [3] https://taxfoundation.org/taxedu/videos/tax-types/\\n- [4] https://smartasset.com/taxes/types-of-taxes'), EnrichQuestion(question='how does tax affect my daily life', answer='Taxes have a significant impact on your daily life, as they fund various public goods and services that you likely benefit from frequently [1]. For instance, taxes pay for roads and infrastructure, emergency services, education, and national defense [3]. Additionally, taxes can influence the prices of goods and services you purchase, as businesses often pass on the cost of taxes to consumers [2]. \\n\\nThe tax incidence analysis, which determines where the actual burden of a tax rests, can help understand how taxes affect different groups, such as consumers, workers, or owners of capital [1]. According to economic theories, the burden of a tax can fall on consumers, workers, or owners of capital, depending on the elasticity of supply and demand [2]. \\n\\nIn your daily life, you may encounter various types of taxes, such as income taxes, sales taxes, or property taxes [3]. These taxes can affect your purchasing power, as they increase the cost of goods and services. However, taxes also enable governments to provide essential public goods and services, which can improve your overall well-being [3].\\n\\nReferences:\\n- [1] https://courses.lumenlearning.com/suny-microeconomics/chapter/reading-types-of-taxes-2/\\n- [2] https://en.wikipedia.org/wiki/Tax\\n- [3] https://taxfoundation.org/taxedu/primers/primer-common-tax-questions-answered/')]), EnrichSection(section='Tax Filing and Payment', questions=[EnrichQuestion(question='how do I file my tax return', answer=\"To file your tax return, you can follow these steps [1]. First, update your contact details at myTax Portal to receive timely notifications [2]. Then, understand the tax season and determine your tax filing requirements [2]. You can use the filing checker to find out if you need to file an Income Tax Return for the Year of Assessment [2]. \\n\\nIf you are required to file, you must e-File your Income Tax Return on myTax Portal by 18 Apr [2]. You can also use online calculators to estimate your tax liability [2]. After filing, review your tax bill and make your tax payment within 1 month from the date of your tax bill [2]. \\n\\nFor companies, you can refer to the basic guide to Corporate Income Tax for companies and follow the steps for Form C-S/ Form C-S (Lite)/ Form C Filing [3, 4]. You can also use accounting software to prepare and file Form C-S seamlessly [3, 4]. \\n\\nIt's also important to keep proper records related to your income and expenses claims for a period of 5 years [2]. \\n\\nReferences:\\n- [1] https://www.iras.gov.sg/taxes/individual-income-tax/basics-of-individual-income-tax/tax-residency-and-tax-rates/working-out-my-tax-residency\\n- [2] https://www.iras.gov.sg/taxes/individual-income-tax/employees/basic-guide-for-new-individual-taxpayers\\n- [3] https://www.iras.gov.sg/taxes\\n- [4] https://www.iras.gov.sg/taxes/goods-services-tax-(gst)/basics-of-gst/goods-and-services-tax-(gst)-what-it-is-and-how-it-works\"), EnrichQuestion(question='what are the tax payment deadlines', answer=\"According to the provided context [1], the tax payment deadlines are as follows: \\n- Filing notifications (SMS/Email/Letter) are sent between February to March.\\n- If you received a notification to file, you may e-File from 1 March to 18 April.\\n- Generally, most taxpayers will be receiving their tax bills from end April onwards.\\n- Income tax is payable within 1 month from the date of your tax bill.\\n\\nAdditionally, it is mentioned that you can pay your tax via GIRO, AXS station, or Internet Banking [1]. \\n\\nIt's also important to note that if you need to file an amendment to your tax bill, you can do so within 30 days from the date of your tax bill [1].\\n\\nReferences:\\n- [1] https://www.iras.gov.sg/taxes/individual-income-tax/employees/basic-guide-for-new-individual-taxpayers\"), EnrichQuestion(question='what are the consequences of late tax payment', answer=\"Based on the provided context, the consequences of late tax payment can be severe [1]. According to the IRAS website, late payment or non-payment of Corporate Income Tax can result in penalties and fines [1]. Additionally, the Wikipedia article on tax mentions that late payment of taxes can lead to increased costs and reduced economic welfare due to deadweight loss and perverse incentives [2]. \\n\\nIn terms of specific consequences, the IRAS website mentions that experiencing difficulties in paying tax can lead to late payment or non-payment of Corporate Income Tax, which can result in penalties and fines [1]. The Wikipedia article also notes that late payment of taxes can lead to a range of negative consequences, including reduced economic efficiency, increased compliance costs, and decreased economic welfare [2].\\n\\nIt's worth noting that the consequences of late tax payment can vary depending on the specific tax system and jurisdiction [2]. However, in general, it's important for individuals and businesses to pay their taxes on time to avoid penalties and fines, and to ensure that they are in compliance with tax laws and regulations [1].\\n\\nReferences:\\n- [1] https://www.iras.gov.sg/taxes/individual-income-tax/basics-of-individual-income-tax/tax-residency-and-tax-rates/working-out-my-tax-residency\\n- [2] https://en.wikipedia.org/wiki/Tax\")]), EnrichSection(section='Tax Deductions and Credits', questions=[EnrichQuestion(question='what are tax deductions and how do I claim them', answer=\"Based on the provided context [1], tax deductions are a way to reduce your taxable income, which in turn reduces the amount of tax you owe. According to [1], tax deductions lower a person's tax liability by reducing their taxable income. The benefit of a tax deduction depends on your tax rate. \\n\\nTo claim tax deductions, you can choose either the standard deduction or itemized deductions [1]. The standard deduction is a fixed amount that reduces your taxable income, while itemized deductions allow you to deduct specific expenses, such as mortgage interest, state and local taxes, and charitable donations [1]. \\n\\nIt's also important to note that tax deductions can be limited by your income, and choosing one over the other can be tricky [2]. A tax professional can help you sort through the complexity and choose whether to claim a credit, deduction, or both if eligible [2]. \\n\\nAdditionally, [1] provides information on how to calculate tax liability, including the use of marginal tax rates, refundable and nonrefundable credits, and standard and itemized deductions. \\n\\nReferences:\\n- [1] https://taxfoundation.org/taxedu/primers/primer-common-tax-questions-answered/\\n- [2] https://www.hrblock.com/tax-center/filing/credits/difference-between-tax-deduction-and-tax-credit/\"), EnrichQuestion(question='what are tax credits and how do I qualify for them', answer=\"Based on the provided context, tax credits are a dollar-for-dollar reduction of the income tax owed [1], [2]. They directly decrease the amount of tax you owe. Common credits include the Earned Income Tax Credit, American Opportunity Tax Credit, and the Child Tax Credit [2]. A credit can be nonrefundable or refundable, with refundable credits allowing you to receive the balance of the credit back as a refund if it exceeds your tax liability [2]. \\n\\nTo qualify for tax credits, you need to meet specific eligibility criteria, which vary depending on the credit [1], [2]. For example, the Earned Income Tax Credit (EITC) is a refundable credit available to low-to-moderate-income working individuals and families [1]. The Child Tax Credit is another example, which provides a credit of up to $1,400 per child, subject to income limits [1]. \\n\\nIt's essential to review the specific requirements for each credit and consult with a tax professional if needed to determine which credits you may be eligible for [2]. Additionally, tax credits can be limited by your income, so choosing the right credits and deductions can be complex [2].\\n\\nReferences:\\n- [1] https://taxfoundation.org/taxedu/primers/primer-common-tax-questions-answered/\\n- [2] https://www.hrblock.com/tax-center/filing/credits/difference-between-tax-deduction-and-tax-credit/?srsltid=AfmBOoqwnPIdTwcB-n7fnJE1UCrA0ByeZa5lFjC7aiV8bje_XY1YLZ4Z\"), EnrichQuestion(question='how do tax deductions and credits affect my tax bill', answer=\"Based on the provided context, tax deductions and credits can significantly impact your tax bill [1], [2]. A tax deduction reduces your taxable income, which in turn lowers the amount of tax you owe, but it does so by decreasing your taxable income — not by directly lowering your tax [2]. On the other hand, a tax credit directly decreases the amount of tax you owe, dollar-for-dollar [1], [2]. \\n\\nFor instance, if you have a $1,000 tax credit, your tax bill is reduced to $2,000 from $3,000 [2]. In contrast, a $1,000 tax deduction would lower your taxable income, and if you're in the 12% tax bracket, that $1,000 deduction takes $120 off of your taxable income (not your tax bill) [2]. \\n\\nIt's also important to note that tax credits can be nonrefundable or refundable [1], [2]. A nonrefundable credit lets you reduce your tax liability to zero, while a refundable credit can also reduce your liability to zero and provide a refund for any remaining amount [1], [2]. \\n\\nTo maximize your tax savings, it's essential to understand the difference between tax deductions and credits and choose the options that best fit your tax situation [2]. You can consult with a tax professional or use online tax filing products to get guidance on claiming tax credits and deductions [2].\\n\\nReferences:\\n- [1] https://taxfoundation.org/taxedu/primers/primer-common-tax-questions-answered/\\n- [2] https://www.hrblock.com/tax-center/filing/credits/difference-between-tax-deduction-and-tax-credit/?srsltid=AfmBOoqwnPIdTwcB-n7fnJE1UCrA0ByeZa5lFjC7aiV8bje_XY1YLZ4Z\")])])"
      ]
     },
     "execution_count": 40,
     "metadata": {},
     "output_type": "execute_result"
    }
   ],
   "source": [
    "se.enrich"
   ]
  }
 ],
 "metadata": {
  "kernelspec": {
   "display_name": "broai-rr",
   "language": "python",
   "name": "broai-rr"
  },
  "language_info": {
   "codemirror_mode": {
    "name": "ipython",
    "version": 3
   },
   "file_extension": ".py",
   "mimetype": "text/x-python",
   "name": "python",
   "nbconvert_exporter": "python",
   "pygments_lexer": "ipython3",
   "version": "3.11.12"
  }
 },
 "nbformat": 4,
 "nbformat_minor": 5
}
