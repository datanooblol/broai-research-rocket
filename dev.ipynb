{
 "cells": [
  {
   "cell_type": "code",
   "execution_count": 153,
   "id": "e4a26e7a-8ab4-49d2-b3ce-ad0dd7a56ed2",
   "metadata": {},
   "outputs": [],
   "source": [
    "import requests"
   ]
  },
  {
   "cell_type": "code",
   "execution_count": 156,
   "id": "0d578e0c-de71-4995-a95f-15229cfc4d7f",
   "metadata": {},
   "outputs": [
    {
     "data": {
      "text/plain": [
       "{'response': 'alive'}"
      ]
     },
     "execution_count": 156,
     "metadata": {},
     "output_type": "execute_result"
    }
   ],
   "source": [
    "response = requests.get(\"http://localhost:8000/\")\n",
    "response.json()"
   ]
  },
  {
   "cell_type": "code",
   "execution_count": 157,
   "id": "819ea8b4-d351-4d47-bc08-930a057e9338",
   "metadata": {},
   "outputs": [
    {
     "data": {
      "text/plain": [
       "'eb4ced09-55a8-4b49-989d-25870dfec85f'"
      ]
     },
     "execution_count": 157,
     "metadata": {},
     "output_type": "execute_result"
    }
   ],
   "source": [
    "headers = {\"Content-Type\": \"application/json\"}\n",
    "payload = {\"username\": \"bank\", \"password\": \"555\"}\n",
    "response = requests.post(\"http://localhost:8000/v1/user/login\", headers=headers, json=payload)\n",
    "response = response.json()\n",
    "user_id = response['user_id']\n",
    "username = response['username']\n",
    "user_id"
   ]
  },
  {
   "cell_type": "code",
   "execution_count": 158,
   "id": "dfa6bce4-62fa-43ae-9181-06502034f654",
   "metadata": {},
   "outputs": [
    {
     "data": {
      "text/plain": [
       "'dc3b4eae-0258-46d2-a91d-ed3011022010'"
      ]
     },
     "execution_count": 158,
     "metadata": {},
     "output_type": "execute_result"
    }
   ],
   "source": [
    "headers = {\"Content-Type\": \"application/json\"}\n",
    "payload = {\"user_id\": user_id}\n",
    "response = requests.post(\"http://localhost:8000/v1/session/list\", headers=headers, json=payload)\n",
    "response = response.json()\n",
    "session_id = [res['session_id'] for res in response['response']][-2]\n",
    "session_id"
   ]
  },
  {
   "cell_type": "code",
   "execution_count": 164,
   "id": "4a87a600-e623-47ea-9ad5-ab0e6bb040b7",
   "metadata": {},
   "outputs": [
    {
     "data": {
      "text/plain": [
       "{'sections': [{'title': 'Introduction to Agentic AI',\n",
       "   'questions': ['what is Agentic AI',\n",
       "    'how does Agentic AI work',\n",
       "    'what are the benefits of Agentic AI for beginners']}]}"
      ]
     },
     "execution_count": 164,
     "metadata": {},
     "output_type": "execute_result"
    }
   ],
   "source": [
    "headers = {\"Content-Type\": \"application/json\"}\n",
    "payload = {\"instruction\": \"write a short introduction to Agentic AI for beginner\"}\n",
    "response = requests.post(\"http://localhost:8000/v1/session/generate-outline\", headers=headers, json=payload)\n",
    "response = response.json()\n",
    "response"
   ]
  },
  {
   "cell_type": "code",
   "execution_count": 169,
   "id": "c1d2f921-f77a-4964-b650-b0ff1573ab70",
   "metadata": {},
   "outputs": [
    {
     "name": "stdout",
     "output_type": "stream",
     "text": [
      "CPU times: user 3.5 ms, sys: 119 μs, total: 3.62 ms\n",
      "Wall time: 3.03 s\n"
     ]
    },
    {
     "data": {
      "text/plain": [
       "{'response': 'searched successfully'}"
      ]
     },
     "execution_count": 169,
     "metadata": {},
     "output_type": "execute_result"
    }
   ],
   "source": [
    "%%time\n",
    "headers = {\"Content-Type\": \"application/json\"}\n",
    "payload = {\"user_id\": user_id, \"session_id\": session_id}\n",
    "response = requests.post(\"http://localhost:8000/v1/session/research/search\", headers=headers, json=payload)\n",
    "response = response.json()\n",
    "response"
   ]
  },
  {
   "cell_type": "code",
   "execution_count": 170,
   "id": "5511ce42-2368-4c8f-855c-345e66193a6c",
   "metadata": {},
   "outputs": [
    {
     "name": "stdout",
     "output_type": "stream",
     "text": [
      "CPU times: user 3.77 ms, sys: 0 ns, total: 3.77 ms\n",
      "Wall time: 2.95 s\n"
     ]
    },
    {
     "data": {
      "text/plain": [
       "{'response': 'retrieved successfully'}"
      ]
     },
     "execution_count": 170,
     "metadata": {},
     "output_type": "execute_result"
    }
   ],
   "source": [
    "%%time\n",
    "headers = {\"Content-Type\": \"application/json\"}\n",
    "payload = {\"user_id\": user_id, \"session_id\": session_id, \"n_retrieve\":5, \"n_rerank\":5}\n",
    "response = requests.post(\"http://localhost:8000/v1/session/research/retrieve\", headers=headers, json=payload)\n",
    "response = response.json()\n",
    "response"
   ]
  },
  {
   "cell_type": "code",
   "execution_count": 171,
   "id": "af809ca7-a6ee-4646-923a-0a68ce9cb336",
   "metadata": {},
   "outputs": [
    {
     "name": "stdout",
     "output_type": "stream",
     "text": [
      "CPU times: user 4.12 ms, sys: 115 μs, total: 4.23 ms\n",
      "Wall time: 10.9 s\n"
     ]
    },
    {
     "data": {
      "text/plain": [
       "{'response': 'enriched successfully'}"
      ]
     },
     "execution_count": 171,
     "metadata": {},
     "output_type": "execute_result"
    }
   ],
   "source": [
    "%%time\n",
    "headers = {\"Content-Type\": \"application/json\"}\n",
    "payload = {\"user_id\": user_id, \"session_id\": session_id}\n",
    "response = requests.post(\"http://localhost:8000/v1/session/research/enrich\", headers=headers, json=payload)\n",
    "response = response.json()\n",
    "response"
   ]
  },
  {
   "cell_type": "code",
   "execution_count": 172,
   "id": "092f7e17-ad7a-4888-99be-b68212701186",
   "metadata": {},
   "outputs": [
    {
     "name": "stdout",
     "output_type": "stream",
     "text": [
      "CPU times: user 0 ns, sys: 3.61 ms, total: 3.61 ms\n",
      "Wall time: 8.38 s\n"
     ]
    },
    {
     "data": {
      "text/plain": [
       "{'response': 'published successfully'}"
      ]
     },
     "execution_count": 172,
     "metadata": {},
     "output_type": "execute_result"
    }
   ],
   "source": [
    "%%time\n",
    "headers = {\"Content-Type\": \"application/json\"}\n",
    "payload = {\"user_id\": user_id, \"session_id\": session_id}\n",
    "response = requests.post(\"http://localhost:8000/v1/session/research/publish\", headers=headers, json=payload)\n",
    "response = response.json()\n",
    "response"
   ]
  },
  {
   "cell_type": "code",
   "execution_count": null,
   "id": "6e31c4ff-a8b9-4061-9478-1ca6f0aec4bf",
   "metadata": {},
   "outputs": [],
   "source": []
  }
 ],
 "metadata": {
  "kernelspec": {
   "display_name": "conda_python3",
   "language": "python",
   "name": "conda_python3"
  },
  "language_info": {
   "codemirror_mode": {
    "name": "ipython",
    "version": 3
   },
   "file_extension": ".py",
   "mimetype": "text/x-python",
   "name": "python",
   "nbconvert_exporter": "python",
   "pygments_lexer": "ipython3",
   "version": "3.10.17"
  }
 },
 "nbformat": 4,
 "nbformat_minor": 5
}
