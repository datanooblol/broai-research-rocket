{
 "cells": [
  {
   "cell_type": "code",
   "execution_count": 16,
   "id": "bbabbea5-d1e4-4c9f-857d-7e081818a76e",
   "metadata": {},
   "outputs": [],
   "source": [
    "%load_ext autoreload\n",
    "%autoreload 2"
   ]
  },
  {
   "cell_type": "code",
   "execution_count": 1,
   "id": "a796ffd6-295c-4275-84fd-3bb2a41209f9",
   "metadata": {},
   "outputs": [],
   "source": [
    "from pydantic import BaseModel, Field\n",
    "from typing import List"
   ]
  },
  {
   "cell_type": "code",
   "execution_count": 29,
   "id": "1a3e642d-b9bc-48ff-b742-c60a4d40fcfb",
   "metadata": {},
   "outputs": [],
   "source": [
    "from package.lib.parse_outline import parse_outline\n",
    "from package.lib.searxng import SearxngSearchOptions, search_searxng\n",
    "from package.interfaces.sections import Sections\n",
    "from broai.experiments.web_scraping import scrape_by_jina_ai\n",
    "from broai.experiments.cleanup_markdown import clean_up_markdown_link"
   ]
  },
  {
   "cell_type": "code",
   "execution_count": 22,
   "id": "3e049f71-26dd-4d4a-ae7e-a1966cb66138",
   "metadata": {},
   "outputs": [
    {
     "name": "stdout",
     "output_type": "stream",
     "text": [
      "[{'section': 'Overview of Insurance Fraud', 'questions': [{'question': 'what is insurance fraud look like', 'urls': []}, {'question': 'what is the impact on insurance fraud in USA', 'urls': []}, {'question': 'how many types of insurance frauds are', 'urls': []}, {'question': 'how to detect insurance fraud', 'urls': []}]}]\n"
     ]
    }
   ],
   "source": [
    "# Example usage:\n",
    "outline = \"\"\"\n",
    "## Overview of Insurance Fraud  \n",
    "- what is insurance fraud look like  \n",
    "- what is the impact on insurance fraud in USA  \n",
    "- how many types of insurance frauds are  \n",
    "- how to detect insurance fraud\n",
    "\"\"\".strip()\n",
    "\n",
    "parsed = parse_outline(outline)\n",
    "print(parsed)"
   ]
  },
  {
   "cell_type": "code",
   "execution_count": 23,
   "id": "53eb7d61-297c-4bdc-b4a9-d304eddee8c8",
   "metadata": {},
   "outputs": [],
   "source": [
    "sections = Sections(sections=parsed)"
   ]
  },
  {
   "cell_type": "code",
   "execution_count": 24,
   "id": "16f4bea2-0417-44f9-b61a-848fa29f174c",
   "metadata": {},
   "outputs": [
    {
     "data": {
      "text/plain": [
       "Question(question='what is insurance fraud look like', urls=[])"
      ]
     },
     "execution_count": 24,
     "metadata": {},
     "output_type": "execute_result"
    }
   ],
   "source": [
    "sections.sections[0].questions[0]"
   ]
  },
  {
   "cell_type": "code",
   "execution_count": 26,
   "id": "66873799-d70f-472d-9566-0235efb90486",
   "metadata": {},
   "outputs": [],
   "source": [
    "from package.lib.searxng import SearxngSearchOptions, search_searxng\n",
    "opts = SearxngSearchOptions(\n",
    "    engines=[\"google\", \"bing\", \"DuckDuckGo\"],\n",
    "    language=\"en\",\n",
    "    pageno=1\n",
    ")\n",
    "results = search_searxng(\"what is insurance fraud look like\", opts)"
   ]
  },
  {
   "cell_type": "code",
   "execution_count": 27,
   "id": "299a0de8-d997-4eb3-8dc9-fb1fb876b6a4",
   "metadata": {},
   "outputs": [
    {
     "name": "stdout",
     "output_type": "stream",
     "text": [
      "https://gia.org.sg/motor-insurance/22-premium-renewal-of-policy/358-motor-insurance-fraud.html\n",
      "https://www.budgetdirect.com.sg/car-insurance/articles/how-to-spot-motor-insurance-fraud\n",
      "https://doi.nebraska.gov/sites/default/files/doc/examples.pdf\n",
      "https://www.allstate.com/resources/car-insurance/types-of-car-insurance-fraud\n",
      "https://www.steadfast.com.sg/well-covered/business-insurance/insurance-fraud-what-is-it-and-what-are-its-implications/\n",
      "https://en.wikipedia.org/wiki/Insurance_fraud\n",
      "https://content.naic.org/article/consumer-insight-insurance-fraud\n",
      "https://www.vero.co.nz/vero-voice/understanding-insurance-fraud.html\n",
      "https://www.scor.com/en/insurance-fraud-it-growing-trend\n",
      "https://www.iii.org/publications/insurance-handbook/regulatory-and-financial-environment/background-on-insurance-fraud\n"
     ]
    }
   ],
   "source": [
    "for result in results.results:\n",
    "    print(result.url)\n",
    "    # print(result.content)"
   ]
  },
  {
   "cell_type": "code",
   "execution_count": 31,
   "id": "a3be1665-5c15-4589-9c11-26bffed412d2",
   "metadata": {},
   "outputs": [],
   "source": [
    "text = scrape_by_jina_ai(result.url)\n",
    "cleaned_text = clean_up_markdown_link(text)"
   ]
  },
  {
   "cell_type": "code",
   "execution_count": 33,
   "id": "8b59ee7a-c9a4-4d3b-b757-b2cb78dbc8d0",
   "metadata": {},
   "outputs": [
    {
     "name": "stdout",
     "output_type": "stream",
     "text": [
      "Title: Background on: Insurance Fraud\n",
      "\n",
      "URL Source: https://www.iii.org/publications/insurance-handbook/regulatory-and-financial-environment/background-on-insurance-fraud\n",
      "\n",
      "Published Time: 2014-01-12T17:11:16-05:00\n",
      "\n",
      "Markdown Content:\n",
      "The topic\n",
      "---------\n",
      "\n",
      "Insurance fraud is a deliberate deception perpetrated against or by an insurance company or agent for financial gain. Fraud may be committed at different points by applicants, policyholders, third-party claimants, or professionals who provide services to claimants. Insurance agents and company employees may also commit insurance fraud. Common frauds include \"padding\" (inflating claims), misrepresenting facts on an insurance application, submitting claims for injuries or damage that never occurred, and staging accidents.\n",
      "\n",
      "People who commit insurance fraud include:\n",
      "\n",
      "*   organized criminals who steal large sums through fraudulent business activities,\n",
      "*   professionals and technicians who inflate service costs or charge for services not rend\n"
     ]
    }
   ],
   "source": [
    "print(cleaned_text[:1000])"
   ]
  },
  {
   "cell_type": "code",
   "execution_count": 34,
   "id": "bbf75dc9-88eb-4e09-9d4c-64cf8060e114",
   "metadata": {},
   "outputs": [
    {
     "name": "stdout",
     "output_type": "stream",
     "text": [
      "Title: Background on: Insurance Fraud\n",
      "\n",
      "URL Source: https://www.iii.org/publications/insurance-handbook/regulatory-and-financial-environment/background-on-insurance-fraud\n",
      "\n",
      "Published Time: 2014-01-12T17:11:16-05:00\n",
      "\n",
      "Markdown Content:\n",
      "The topic\n",
      "---------\n",
      "\n",
      "Insurance fraud is a deliberate deception perpetrated against or by an insurance company or agent for financial gain. Fraud may be committed at different points by applicants, policyholders, third-party claimants, or professionals who provide services to claimants. Insurance agents and company employees may also commit insurance fraud. Common frauds include \"padding\" (inflating claims), misrepresenting facts on an insurance application, submitting claims for injuries or damage that never occurred, and staging accidents.\n",
      "\n",
      "People who commit insurance fraud include:\n",
      "\n",
      "*   organized criminals who steal large sums through fraudulent business activities,\n",
      "*   professionals and technicians who inflate service costs or charge for services not rend\n"
     ]
    }
   ],
   "source": [
    "print(text[:1000])"
   ]
  },
  {
   "cell_type": "code",
   "execution_count": 57,
   "id": "884ebfc5-3231-4e25-a3cd-4266daa9e9c4",
   "metadata": {},
   "outputs": [
    {
     "data": {
      "text/plain": [
       "1"
      ]
     },
     "execution_count": 57,
     "metadata": {},
     "output_type": "execute_result"
    }
   ],
   "source": [
    "len(cleaned_text.split(\"\\n\\n\"))"
   ]
  },
  {
   "cell_type": "code",
   "execution_count": 56,
   "id": "6291ba80-08b4-4ce9-b7c8-36d047a7c325",
   "metadata": {},
   "outputs": [
    {
     "name": "stdout",
     "output_type": "stream",
     "text": [
      "State antifraud legislation\n",
      "---------------------------\n"
     ]
    }
   ],
   "source": [
    "print(cleaned_text.split(\"\\n\\n\")[50])"
   ]
  },
  {
   "cell_type": "code",
   "execution_count": 59,
   "id": "0bf65bc1-f490-4b33-a538-34333a9b62c5",
   "metadata": {},
   "outputs": [],
   "source": [
    "from broai.experiments.chunk import split_overlap\n",
    "from broai.interface import Context"
   ]
  },
  {
   "cell_type": "code",
   "execution_count": 60,
   "id": "3af64499-20e4-4e6d-8c69-e4ef4bef5e59",
   "metadata": {},
   "outputs": [],
   "source": [
    "context = Context(context=cleaned_text, metadata={\"source\": \"abc\"})"
   ]
  },
  {
   "cell_type": "code",
   "execution_count": 61,
   "id": "08862b85-40a6-449d-8d8d-8e91375e44e4",
   "metadata": {},
   "outputs": [
    {
     "name": "stderr",
     "output_type": "stream",
     "text": [
      "/tmp/ipykernel_11908/4223221696.py:1: UserWarning: [EXPERIMENT] You're using an experimental module, which is subject to change in future.: split_overlap\n",
      "  new_contexts = split_overlap([context])\n"
     ]
    }
   ],
   "source": [
    "new_contexts = split_overlap([context])"
   ]
  },
  {
   "cell_type": "code",
   "execution_count": 62,
   "id": "d2d2f098-203a-4ab7-a067-072535ee9c6b",
   "metadata": {},
   "outputs": [
    {
     "data": {
      "text/plain": [
       "10"
      ]
     },
     "execution_count": 62,
     "metadata": {},
     "output_type": "execute_result"
    }
   ],
   "source": [
    "len(new_contexts)"
   ]
  },
  {
   "cell_type": "code",
   "execution_count": 65,
   "id": "87b6e909-4015-4895-a437-fb67ee9f43e7",
   "metadata": {},
   "outputs": [
    {
     "name": "stdout",
     "output_type": "stream",
     "text": [
      "Title: Background on: Insurance Fraud\n",
      "\n",
      "URL Source: https://www.iii.org/publications/insurance-handbook/regulatory-and-financial-environment/background-on-insurance-fraud\n",
      "\n",
      "Published Time: 2014-01-12T17:11:16-05:00\n",
      "\n",
      "Markdown Content:\n",
      "The topic\n",
      "---------\n",
      "\n",
      "Insurance fraud is a deliberate deception perpetrated against or by an insurance company or agent for financial gain. Fraud may be committed at different points by applicants, policyholders, third-party claimants, or professionals who provide services to claimants. Insurance agents and company employees may also commit insurance fraud. Common frauds include \"padding\" (inflating claims), misrepresenting facts on an insurance application, submitting claims for injuries or damage that never occurred, and staging accidents.\n",
      "\n",
      "People who commit insurance fraud include:\n",
      "\n",
      "*   organized criminals who steal large sums through fraudulent business activities,\n",
      "*   professionals and technicians who inflate service costs or charge for services not rendered, and\n",
      "*   ordinary people who want to cover their deductible or view filing a claim as an opportunity to make a little money.\n",
      "\n",
      "Some insurance lines are more vulnerable to fraud than others. Healthcare, workers' compensation, and auto are generally considered the most affected insurance sectors.\n",
      "\n",
      "Cost of insurance fraud\n",
      "-----------------------\n",
      "\n",
      "For decades, estimates of annual insurance fraud costs may have been too low, lacking updates for inflation and other essential data components. A 2022 study by The Coalition Against Insurance Fraud (CAIF) indicates that insurance fraud can cost U.S. consumers $308.6 billion yearly. That amount includes estimates of annual fraud costs across several liability areas, including Life Insurance ($74.7 billion), Property and Casualty ($45 billion), Workers Compensation ($34 billion), and Auto Theft ($7.4 billion).\n",
      "\n",
      "Auto insurance fraud\n",
      "--------------------\n",
      "\n",
      "Auto insurers lose at least $29 billion a year, according to a 2017 study by Verisk, to premium leakage, the \"omitted or misstated underwriting information that leads to inaccurate rates.\" Several types of information failures and fraudulent practices drive costs up, such as unrecognized drivers ($10.3 billion), underestimated mileage ($5.4 billion), violations/accidents ($3.4 billion), and false garaging to lower premiums ($2.9 billion). While not always a result of malicious or conscious actions, premium leakage creates problems for consumers, too—as much as 14 percent of all personal auto premiums can be attributed to the cost of covering premium leakage.\n",
      "\n",
      "No-fault auto insurance is a system that lets policyholders recover financial losses from their own insurance company, regardless of who was at fault in a motor vehicle accident. However, in many no-fault states, unscrupulous medical providers, attorneys, and others pad costs associated with legitimate claims – for example, by billing an insurer for a medical procedure never performed.\n",
      "\n",
      "### Salvage fraud\n",
      "\n",
      "Another common auto fraud involves vehicles damaged by storm flooding that later appear in used car lots and auction sales. Some states require \"salvage only\" on the titles of flooded vehicles, usually if the damage amounts to 75 percent of the car's value. Unscrupulous sellers may switch or clone the manufacturers' serial number plates and put them on a flooded but repaired vehicle. Or, they may resell a car with a salvage-only title in a state with more lax title standards. This practice is called \"title washing.\"\n",
      "\n",
      "Standardized state rules for titling vehicles are necessary to combat salvage fraud. In recent years, some states in hurricane-prone parts of the United States have\n"
     ]
    }
   ],
   "source": [
    "print(new_contexts[0].context)"
   ]
  },
  {
   "cell_type": "code",
   "execution_count": 66,
   "id": "660a13b2-52d9-47bd-a8ea-30ce125e7f48",
   "metadata": {},
   "outputs": [
    {
     "name": "stdout",
     "output_type": "stream",
     "text": [
      "who was at fault in a motor vehicle accident. However, in many no-fault states, unscrupulous medical providers, attorneys, and others pad costs associated with legitimate claims – for example, by billing an insurer for a medical procedure never performed.\n",
      "\n",
      "### Salvage fraud\n",
      "\n",
      "Another common auto fraud involves vehicles damaged by storm flooding that later appear in used car lots and auction sales. Some states require \"salvage only\" on the titles of flooded vehicles, usually if the damage amounts to 75 percent of the car's value. Unscrupulous sellers may switch or clone the manufacturers' serial number plates and put them on a flooded but repaired vehicle. Or, they may resell a car with a salvage-only title in a state with more lax title standards. This practice is called \"title washing.\"\n",
      "\n",
      "Standardized state rules for titling vehicles are necessary to combat salvage fraud. In recent years, some states in hurricane-prone parts of the United States have adopted rules requiring the words \"flood vehicle\" on the titles of vehicles that have been water damaged and rebuilt. Before such a vehicle can be sold, the buyer must be notified in writing of the vehicle's past flood damage. However, if a state in the region does not have such strict laws, it can become a dumping ground for undeclared flooded vehicles.\n",
      "\n",
      "After the hurricane season of 2005, the National Insurance Crime Bureau (NICB) created a database that stores vehicle identification numbers (VINs) and boat hull identification numbers (HINs) from flooded vehicles and boats. This information is available to law enforcers, state fraud bureaus, insurers, and state motor vehicle departments. The general public can access VINCheck®, an online lookup service, to determine if a vehicle may have been reported as a \"salvage.\"\n",
      "\n",
      "Another attempt to solve the problem of title washing is the National Motor Vehicle Title Information System (NMVTIS), a database that requires junk and salvage yard operators and insurance companies to file monthly reports on vehicles declared total losses. The program operates under the auspices of the U.S. Department of Justice and is administered by the American Association of Motor Vehicle Administrators. By 2019, this system included information on 99 percent of the U.S. vehicle population (based on 2019 Federal Highway Administration data), and 49 states were reporting data to the system.\n",
      "\n",
      "Another form of salvage fraud can involve counterfeit parts, such as airbags. Industry observers say counterfeit airbags are produced for nearly every vehicle model. Unscrupulous auto body repair shops use these less expensive airbags and obtain reimbursement from insurance companies for legitimate airbags.\n",
      "\n",
      "Healthcare fraud\n",
      "----------------\n",
      "\n",
      "Although healthcare insurance is generally outside the purview of property/casualty insurance, healthcare fraud affects all types of property/casualty insurance coverage that include a medical care component, such as medical payments for auto accident victims or workers injured in the workplace.\n",
      "\n",
      "Fraud and abuse take place at many points in the healthcare system. Doctors, hospitals, nursing homes, diagnostic facilities, medical equipment suppliers, and attorneys have been cited in scams to defraud the system. The National Health Care Anti-Fraud Association (NHCAA) estimates that the financial losses due to health\n"
     ]
    }
   ],
   "source": [
    "print(new_contexts[1].context)"
   ]
  },
  {
   "cell_type": "code",
   "execution_count": 67,
   "id": "208735c9-4364-47fe-8542-e9c5772ba300",
   "metadata": {},
   "outputs": [
    {
     "name": "stderr",
     "output_type": "stream",
     "text": [
      "/home/ec2-user/SageMaker/broai-research-rocket/.venv/lib/python3.11/site-packages/tqdm/auto.py:21: TqdmWarning: IProgress not found. Please update jupyter and ipywidgets. See https://ipywidgets.readthedocs.io/en/stable/user_install.html\n",
      "  from .autonotebook import tqdm as notebook_tqdm\n",
      "/tmp/ipykernel_11908/655537899.py:3: UserWarning: [EXPERIMENT] You're using an experimental module, which is subject to change in future.: BAAIEmbedding\n",
      "  baai_em = BAAIEmbedding()\n",
      "Fetching 30 files: 100%|██████████| 30/30 [00:00<00:00, 139965.65it/s]\n"
     ]
    }
   ],
   "source": [
    "from broai.experiments.vector_store import DuckVectorStore\n",
    "from broai.experiments.huggingface_embedding import BAAIEmbedding, EmbeddingDimension\n",
    "baai_em = BAAIEmbedding()"
   ]
  },
  {
   "cell_type": "code",
   "execution_count": 70,
   "id": "c71966db-ccad-494f-b9ca-0b7be69190a0",
   "metadata": {},
   "outputs": [
    {
     "name": "stderr",
     "output_type": "stream",
     "text": [
      "/tmp/ipykernel_11908/868377394.py:1: UserWarning: [EXPERIMENT] You're using an experimental module, which is subject to change in future.: DuckVectorStore\n",
      "  vs = DuckVectorStore(db_name=\"./rocket.db\", table=\"knowledge\", embedding=baai_em)\n"
     ]
    }
   ],
   "source": [
    "vs = DuckVectorStore(db_name=\"./rocket.db\", table=\"knowledge\", embedding=baai_em)"
   ]
  },
  {
   "cell_type": "code",
   "execution_count": 73,
   "id": "cbfb0bb7-fbdb-48d9-b164-3171fdbb5e8e",
   "metadata": {},
   "outputs": [
    {
     "data": {
      "text/plain": [
       "500"
      ]
     },
     "execution_count": 73,
     "metadata": {},
     "output_type": "execute_result"
    }
   ],
   "source": [
    "len(vs.vector_search(search_query=\"insurance\")[0].context.split(\" \"))"
   ]
  },
  {
   "cell_type": "code",
   "execution_count": 74,
   "id": "ee5e6ec1-b5d2-4c99-8702-cefc18689687",
   "metadata": {},
   "outputs": [
    {
     "data": {
      "text/plain": [
       "25.0"
      ]
     },
     "execution_count": 74,
     "metadata": {},
     "output_type": "execute_result"
    }
   ],
   "source": [
    "100/4"
   ]
  },
  {
   "cell_type": "code",
   "execution_count": 78,
   "id": "0d7373cd-2e4c-4ab6-a01d-53ec4e91d36e",
   "metadata": {},
   "outputs": [
    {
     "data": {
      "text/plain": [
       "33.33333333333333"
      ]
     },
     "execution_count": 78,
     "metadata": {},
     "output_type": "execute_result"
    }
   ],
   "source": [
    "(1/3)*100"
   ]
  },
  {
   "cell_type": "code",
   "execution_count": 79,
   "id": "5763038b-679c-4efd-a6b2-31d9fcd0b336",
   "metadata": {},
   "outputs": [
    {
     "data": {
      "text/plain": [
       "75"
      ]
     },
     "execution_count": 79,
     "metadata": {},
     "output_type": "execute_result"
    }
   ],
   "source": [
    "int((3/4)*100)"
   ]
  },
  {
   "cell_type": "code",
   "execution_count": null,
   "id": "05d0ce22-928a-4825-bed2-404a1c00bb9a",
   "metadata": {},
   "outputs": [],
   "source": []
  }
 ],
 "metadata": {
  "kernelspec": {
   "display_name": "broai-rr",
   "language": "python",
   "name": "broai-rr"
  },
  "language_info": {
   "codemirror_mode": {
    "name": "ipython",
    "version": 3
   },
   "file_extension": ".py",
   "mimetype": "text/x-python",
   "name": "python",
   "nbconvert_exporter": "python",
   "pygments_lexer": "ipython3",
   "version": "3.11.12"
  }
 },
 "nbformat": 4,
 "nbformat_minor": 5
}
