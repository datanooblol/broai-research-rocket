{
 "cells": [
  {
   "cell_type": "markdown",
   "id": "03231705-bdb5-40ca-befa-e7a2717352b2",
   "metadata": {},
   "source": [
    "# Setup"
   ]
  },
  {
   "cell_type": "code",
   "execution_count": 8,
   "id": "e151f3f2-8cd3-4db9-89c4-04d30ebaab48",
   "metadata": {},
   "outputs": [
    {
     "name": "stdout",
     "output_type": "stream",
     "text": [
      "The autoreload extension is already loaded. To reload it, use:\n",
      "  %reload_ext autoreload\n"
     ]
    }
   ],
   "source": [
    "%load_ext autoreload\n",
    "%autoreload 2"
   ]
  },
  {
   "cell_type": "code",
   "execution_count": 9,
   "id": "de7654b4-4fce-4549-bc15-400fcaf4b179",
   "metadata": {},
   "outputs": [],
   "source": [
    "from dotenv import load_dotenv\n",
    "import os\n",
    "load_dotenv()  # take environment variables\n",
    "import requests\n",
    "from package.database.user.db import UserDB\n",
    "from package.database.session.db import SessionDB\n",
    "from package.database.session.model import SessionEnrich, EnrichSection, EnrichQuestion, Enrich, SessionPublish, Knowledge, KnowledgeSection, KnowledgeQuestion, SessionKnowledge, SessionStep\n",
    "from package.database.web_register.db import WebDB\n",
    "from package.database.web_register.model import UrlRecords, UrlRecord, WebStatus\n",
    "userDB = UserDB(db_name=os.getenv(\"DB_NAME\"))\n",
    "sessionDB = SessionDB(db_name=os.getenv(\"DB_NAME\"))\n",
    "webDB = WebDB(db_name=os.getenv(\"DB_NAME\"))\n",
    "\n",
    "BASE_URL = os.getenv(\"ENDPOINT\")"
   ]
  },
  {
   "cell_type": "code",
   "execution_count": 31,
   "id": "82ebd60d-8bdb-4562-89a2-5a248dc1333f",
   "metadata": {},
   "outputs": [
    {
     "data": {
      "text/html": [
       "<div>\n",
       "<style scoped>\n",
       "    .dataframe tbody tr th:only-of-type {\n",
       "        vertical-align: middle;\n",
       "    }\n",
       "\n",
       "    .dataframe tbody tr th {\n",
       "        vertical-align: top;\n",
       "    }\n",
       "\n",
       "    .dataframe thead th {\n",
       "        text-align: right;\n",
       "    }\n",
       "</style>\n",
       "<table border=\"1\" class=\"dataframe\">\n",
       "  <thead>\n",
       "    <tr style=\"text-align: right;\">\n",
       "      <th></th>\n",
       "      <th>Success</th>\n",
       "    </tr>\n",
       "  </thead>\n",
       "  <tbody>\n",
       "  </tbody>\n",
       "</table>\n",
       "</div>"
      ],
      "text/plain": [
       "Empty DataFrame\n",
       "Columns: [Success]\n",
       "Index: []"
      ]
     },
     "execution_count": 31,
     "metadata": {},
     "output_type": "execute_result"
    }
   ],
   "source": [
    "userDB.drop_table()\n",
    "sessionDB.drop_table()\n",
    "webDB.drop_table()"
   ]
  },
  {
   "cell_type": "code",
   "execution_count": 11,
   "id": "75ca8ccf-f7d8-4c71-bea1-e0e46eab49e5",
   "metadata": {},
   "outputs": [],
   "source": [
    "# userDB = UserDB(db_name=os.getenv(\"DB_NAME\"))\n",
    "# sessionDB = SessionDB(db_name=os.getenv(\"DB_NAME\"))\n",
    "# webDB = WebDB(db_name=os.getenv(\"DB_NAME\"))"
   ]
  },
  {
   "cell_type": "code",
   "execution_count": 12,
   "id": "86d7d326-7ae6-4fef-8057-1051e8fee1a6",
   "metadata": {},
   "outputs": [],
   "source": [
    "from package.database.utils import get_UserDB, get_SessionDB"
   ]
  },
  {
   "cell_type": "code",
   "execution_count": 13,
   "id": "6d526ab5-7d7e-4175-9563-6389664dc514",
   "metadata": {},
   "outputs": [
    {
     "data": {
      "text/html": [
       "<div>\n",
       "<style scoped>\n",
       "    .dataframe tbody tr th:only-of-type {\n",
       "        vertical-align: middle;\n",
       "    }\n",
       "\n",
       "    .dataframe tbody tr th {\n",
       "        vertical-align: top;\n",
       "    }\n",
       "\n",
       "    .dataframe thead th {\n",
       "        text-align: right;\n",
       "    }\n",
       "</style>\n",
       "<table border=\"1\" class=\"dataframe\">\n",
       "  <thead>\n",
       "    <tr style=\"text-align: right;\">\n",
       "      <th></th>\n",
       "      <th>user_id</th>\n",
       "      <th>username</th>\n",
       "      <th>password</th>\n",
       "      <th>created_at</th>\n",
       "      <th>updated_at</th>\n",
       "    </tr>\n",
       "  </thead>\n",
       "  <tbody>\n",
       "  </tbody>\n",
       "</table>\n",
       "</div>"
      ],
      "text/plain": [
       "Empty DataFrame\n",
       "Columns: [user_id, username, password, created_at, updated_at]\n",
       "Index: []"
      ]
     },
     "execution_count": 13,
     "metadata": {},
     "output_type": "execute_result"
    }
   ],
   "source": [
    "next(get_UserDB()).read_all()"
   ]
  },
  {
   "cell_type": "code",
   "execution_count": 14,
   "id": "6c408cba-cda7-4581-a7b1-8932fc3afea6",
   "metadata": {},
   "outputs": [
    {
     "data": {
      "text/html": [
       "<div>\n",
       "<style scoped>\n",
       "    .dataframe tbody tr th:only-of-type {\n",
       "        vertical-align: middle;\n",
       "    }\n",
       "\n",
       "    .dataframe tbody tr th {\n",
       "        vertical-align: top;\n",
       "    }\n",
       "\n",
       "    .dataframe thead th {\n",
       "        text-align: right;\n",
       "    }\n",
       "</style>\n",
       "<table border=\"1\" class=\"dataframe\">\n",
       "  <thead>\n",
       "    <tr style=\"text-align: right;\">\n",
       "      <th></th>\n",
       "      <th>session_id</th>\n",
       "      <th>user_id</th>\n",
       "      <th>tone_of_voice</th>\n",
       "      <th>outline</th>\n",
       "      <th>parsed_outline</th>\n",
       "      <th>step</th>\n",
       "      <th>step_remark</th>\n",
       "      <th>knowledge</th>\n",
       "      <th>enrich</th>\n",
       "      <th>publish</th>\n",
       "      <th>created_at</th>\n",
       "      <th>updated_at</th>\n",
       "    </tr>\n",
       "  </thead>\n",
       "  <tbody>\n",
       "  </tbody>\n",
       "</table>\n",
       "</div>"
      ],
      "text/plain": [
       "Empty DataFrame\n",
       "Columns: [session_id, user_id, tone_of_voice, outline, parsed_outline, step, step_remark, knowledge, enrich, publish, created_at, updated_at]\n",
       "Index: []"
      ]
     },
     "execution_count": 14,
     "metadata": {},
     "output_type": "execute_result"
    }
   ],
   "source": [
    "next(get_SessionDB()).read_all()"
   ]
  },
  {
   "cell_type": "markdown",
   "id": "5e43873f-7f9c-4ee0-b830-dd893204c059",
   "metadata": {},
   "source": [
    "# User"
   ]
  },
  {
   "cell_type": "markdown",
   "id": "9638b96b-ecd8-4c3d-af86-074d9f6e83e4",
   "metadata": {},
   "source": [
    "## Register"
   ]
  },
  {
   "cell_type": "code",
   "execution_count": 32,
   "id": "d2881303-da7b-4b86-bcec-e5022ec0e295",
   "metadata": {},
   "outputs": [
    {
     "data": {
      "text/plain": [
       "{'user_id': 'b64150c8-bef1-4275-b149-1e499d8a3311', 'username': 'bank'}"
      ]
     },
     "execution_count": 32,
     "metadata": {},
     "output_type": "execute_result"
    }
   ],
   "source": [
    "headers = {\"Content-type\": \"application/json\"}\n",
    "payload = {\n",
    "    \"username\": \"bank\",\n",
    "    \"password\": \"P@ssw0rd\",\n",
    "}\n",
    "\n",
    "response = requests.post(f\"{BASE_URL}/v1/user/register\", headers=headers, json=payload)\n",
    "response.json()"
   ]
  },
  {
   "cell_type": "code",
   "execution_count": 34,
   "id": "192a2cf4-e2a3-4f60-8310-07de73688835",
   "metadata": {},
   "outputs": [
    {
     "data": {
      "text/plain": [
       "{'detail': 'Constraint Error: Duplicate key \"username: bank\" violates unique constraint.'}"
      ]
     },
     "execution_count": 34,
     "metadata": {},
     "output_type": "execute_result"
    }
   ],
   "source": [
    "headers = {\"Content-type\": \"application/json\"}\n",
    "payload = {\n",
    "    \"username\": \"bank\",\n",
    "    \"password\": \"P@ssw0rd\",\n",
    "}\n",
    "\n",
    "response = requests.post(f\"{BASE_URL}/v1/user/register\", headers=headers, json=payload)\n",
    "response.json()"
   ]
  },
  {
   "cell_type": "markdown",
   "id": "b91fd359-33e2-4d32-baac-07594eb68406",
   "metadata": {},
   "source": [
    "## Login"
   ]
  },
  {
   "cell_type": "code",
   "execution_count": 35,
   "id": "e6b57dd6-8bf9-4564-b8cc-a78286f0d863",
   "metadata": {},
   "outputs": [
    {
     "data": {
      "text/plain": [
       "{'user_id': 'b64150c8-bef1-4275-b149-1e499d8a3311', 'username': 'bank'}"
      ]
     },
     "execution_count": 35,
     "metadata": {},
     "output_type": "execute_result"
    }
   ],
   "source": [
    "headers = {\"Content-type\": \"application/json\"}\n",
    "payload = {\n",
    "    \"username\": \"bank\",\n",
    "    \"password\": \"P@ssw0rd\",\n",
    "}\n",
    "\n",
    "response = requests.post(f\"{BASE_URL}/v1/user/login\", headers=headers, json=payload)\n",
    "response.json()"
   ]
  },
  {
   "cell_type": "code",
   "execution_count": 36,
   "id": "91c3330a-1c27-4abc-9f21-3ebad5389408",
   "metadata": {},
   "outputs": [
    {
     "data": {
      "text/plain": [
       "200"
      ]
     },
     "execution_count": 36,
     "metadata": {},
     "output_type": "execute_result"
    }
   ],
   "source": [
    "response.status_code"
   ]
  },
  {
   "cell_type": "code",
   "execution_count": 37,
   "id": "baa2c818-e65e-4d50-b4d3-19708edcfbd5",
   "metadata": {},
   "outputs": [
    {
     "data": {
      "text/plain": [
       "'b64150c8-bef1-4275-b149-1e499d8a3311'"
      ]
     },
     "execution_count": 37,
     "metadata": {},
     "output_type": "execute_result"
    }
   ],
   "source": [
    "user_id = response.json()['user_id']\n",
    "user_id"
   ]
  },
  {
   "cell_type": "code",
   "execution_count": 38,
   "id": "4b000324-224e-4d5b-b1ab-491af7dddf09",
   "metadata": {},
   "outputs": [
    {
     "data": {
      "text/plain": [
       "(404, {'detail': \"Username 'bonk' not found\"})"
      ]
     },
     "execution_count": 38,
     "metadata": {},
     "output_type": "execute_result"
    }
   ],
   "source": [
    "headers = {\"Content-type\": \"application/json\"}\n",
    "payload = {\n",
    "    \"username\": \"bonk\",\n",
    "    \"password\": \"P@ssw0rd\",\n",
    "}\n",
    "\n",
    "response = requests.post(f\"{BASE_URL}/v1/user/login\", headers=headers, json=payload)\n",
    "response.status_code, response.json()"
   ]
  },
  {
   "cell_type": "code",
   "execution_count": 39,
   "id": "66729f91-464a-4407-b6da-d41deaa5c023",
   "metadata": {},
   "outputs": [
    {
     "data": {
      "text/plain": [
       "(401, {'detail': 'Incorrect password'})"
      ]
     },
     "execution_count": 39,
     "metadata": {},
     "output_type": "execute_result"
    }
   ],
   "source": [
    "headers = {\"Content-type\": \"application/json\"}\n",
    "payload = {\n",
    "    \"username\": \"bank\",\n",
    "    \"password\": \"P@ssward\",\n",
    "}\n",
    "\n",
    "response = requests.post(f\"{BASE_URL}/v1/user/login\", headers=headers, json=payload)\n",
    "response.status_code, response.json()"
   ]
  },
  {
   "cell_type": "markdown",
   "id": "b3f692b6-ac59-4b78-95e4-e55db47e863c",
   "metadata": {},
   "source": [
    "# Session"
   ]
  },
  {
   "cell_type": "markdown",
   "id": "6c500776-cce0-4b97-9d7e-ec966a497065",
   "metadata": {},
   "source": [
    "## create"
   ]
  },
  {
   "cell_type": "code",
   "execution_count": 39,
   "id": "ca79e014-9bc7-4889-b7a9-1341d06341f1",
   "metadata": {},
   "outputs": [
    {
     "data": {
      "text/plain": [
       "{'response': 'success'}"
      ]
     },
     "execution_count": 39,
     "metadata": {},
     "output_type": "execute_result"
    }
   ],
   "source": [
    "headers = {\"Content-type\": \"application/json\"}\n",
    "payload = {\n",
    "    \"user_id\": user_id,\n",
    "}\n",
    "\n",
    "response = requests.post(f\"{BASE_URL}/v1/session/create\", headers=headers, json=payload)\n",
    "response.json()"
   ]
  },
  {
   "cell_type": "markdown",
   "id": "b4929696-f880-4c7b-a794-f55b57809ba0",
   "metadata": {},
   "source": [
    "## list"
   ]
  },
  {
   "cell_type": "code",
   "execution_count": 22,
   "id": "b1bb1d7b-3f4d-479a-82d3-3577781bdc25",
   "metadata": {},
   "outputs": [
    {
     "data": {
      "text/plain": [
       "{'response': []}"
      ]
     },
     "execution_count": 22,
     "metadata": {},
     "output_type": "execute_result"
    }
   ],
   "source": [
    "headers = {\"Content-type\": \"application/json\"}\n",
    "payload = {\n",
    "    \"user_id\": user_id,\n",
    "}\n",
    "\n",
    "response = requests.post(f\"{BASE_URL}/v1/session/list\", headers=headers, json=payload)\n",
    "response.json()"
   ]
  },
  {
   "cell_type": "code",
   "execution_count": 41,
   "id": "a8236bbc-053b-4830-bc7d-79d44933e8cb",
   "metadata": {},
   "outputs": [
    {
     "data": {
      "text/plain": [
       "'3176fa54-31ed-4521-84da-2d410263972a'"
      ]
     },
     "execution_count": 41,
     "metadata": {},
     "output_type": "execute_result"
    }
   ],
   "source": [
    "session_id = response.json()['response'][0]['session_id']\n",
    "session_id"
   ]
  },
  {
   "cell_type": "code",
   "execution_count": 42,
   "id": "4e665e75-14d4-4498-86de-6fee71500f1f",
   "metadata": {},
   "outputs": [
    {
     "data": {
      "text/plain": [
       "{'response': []}"
      ]
     },
     "execution_count": 42,
     "metadata": {},
     "output_type": "execute_result"
    }
   ],
   "source": [
    "headers = {\"Content-type\": \"application/json\"}\n",
    "payload = {\n",
    "    \"user_id\": \"fake\",\n",
    "}\n",
    "\n",
    "response = requests.post(f\"{BASE_URL}/v1/session/list\", headers=headers, json=payload)\n",
    "response.json()"
   ]
  },
  {
   "cell_type": "markdown",
   "id": "eda5a4a2-3950-42f9-beff-0f3b566104ca",
   "metadata": {},
   "source": [
    "## update-outline"
   ]
  },
  {
   "cell_type": "code",
   "execution_count": 43,
   "id": "28855dcf-ad9c-4beb-89da-09c3aebf78f0",
   "metadata": {},
   "outputs": [
    {
     "data": {
      "text/plain": [
       "{'response': [{'section': 'Overview of Insurance Fraud',\n",
       "   'questions': ['what is insurance fraud look like']}]}"
      ]
     },
     "execution_count": 43,
     "metadata": {},
     "output_type": "execute_result"
    }
   ],
   "source": [
    "tone_of_voice = \"\"\"\n",
    "Write an article as the introduction to Insurance Fraud. Make the language easy and simple for the beginners. The article aims to educate a new fraud investigator.\n",
    "\"\"\".strip()\n",
    "\n",
    "outline = \"\"\"\n",
    "## Overview of Insurance Fraud  \n",
    "- what is insurance fraud look like  \n",
    "\"\"\".strip()\n",
    "\n",
    "# outline = \"\"\"\n",
    "# ## Overview of Insurance Fraud  \n",
    "# - what is insurance fraud look like  \n",
    "# - what is the impact on insurance fraud in USA  \n",
    "# - how many types of insurance frauds are  \n",
    "# - how to detect insurance fraud  \n",
    "# \"\"\".strip()\n",
    "\n",
    "headers = {\"Content-type\": \"application/json\"}\n",
    "payload = {\n",
    "    \"session_id\": session_id,\n",
    "    \"tone_of_voice\": tone_of_voice,\n",
    "    \"outline\": outline\n",
    "}\n",
    "\n",
    "response = requests.put(f\"{BASE_URL}/v1/session/update-outline\", headers=headers, json=payload)\n",
    "response.json()"
   ]
  },
  {
   "cell_type": "code",
   "execution_count": 44,
   "id": "7c64143a-97f5-4bcb-a98b-195a9709da2e",
   "metadata": {},
   "outputs": [
    {
     "data": {
      "text/plain": [
       "{'response': [{'session_id': '3176fa54-31ed-4521-84da-2d410263972a',\n",
       "   'user_id': '5f64716a-0d76-40d6-aa94-132aad1a5ef9',\n",
       "   'tone_of_voice': 'Write an article as the introduction to Insurance Fraud. Make the language easy and simple for the beginners. The article aims to educate a new fraud investigator.',\n",
       "   'outline': '## Overview of Insurance Fraud  \\n- what is insurance fraud look like',\n",
       "   'parsed_outline': '[{\"section\":\"Overview of Insurance Fraud\",\"questions\":[\"what is insurance fraud look like\"]}]',\n",
       "   'step': 'not start',\n",
       "   'step_remark': None,\n",
       "   'knowledge': None,\n",
       "   'enrich': None,\n",
       "   'publish': None,\n",
       "   'created_at': '2025-05-05T01:54:01.973544',\n",
       "   'updated_at': '2025-05-05T01:54:16.861038'}]}"
      ]
     },
     "execution_count": 44,
     "metadata": {},
     "output_type": "execute_result"
    }
   ],
   "source": [
    "headers = {\"Content-type\": \"application/json\"}\n",
    "payload = {\n",
    "    \"user_id\": user_id,\n",
    "}\n",
    "\n",
    "response = requests.post(f\"{BASE_URL}/v1/session/list\", headers=headers, json=payload)\n",
    "response.json()"
   ]
  },
  {
   "cell_type": "code",
   "execution_count": 45,
   "id": "4f95e763-f53d-4a4c-b2dc-157ffc3688a1",
   "metadata": {},
   "outputs": [
    {
     "data": {
      "text/html": [
       "<div>\n",
       "<style scoped>\n",
       "    .dataframe tbody tr th:only-of-type {\n",
       "        vertical-align: middle;\n",
       "    }\n",
       "\n",
       "    .dataframe tbody tr th {\n",
       "        vertical-align: top;\n",
       "    }\n",
       "\n",
       "    .dataframe thead th {\n",
       "        text-align: right;\n",
       "    }\n",
       "</style>\n",
       "<table border=\"1\" class=\"dataframe\">\n",
       "  <thead>\n",
       "    <tr style=\"text-align: right;\">\n",
       "      <th></th>\n",
       "      <th>session_id</th>\n",
       "      <th>user_id</th>\n",
       "      <th>tone_of_voice</th>\n",
       "      <th>outline</th>\n",
       "      <th>parsed_outline</th>\n",
       "      <th>step</th>\n",
       "      <th>step_remark</th>\n",
       "      <th>knowledge</th>\n",
       "      <th>enrich</th>\n",
       "      <th>publish</th>\n",
       "      <th>created_at</th>\n",
       "      <th>updated_at</th>\n",
       "    </tr>\n",
       "  </thead>\n",
       "  <tbody>\n",
       "    <tr>\n",
       "      <th>0</th>\n",
       "      <td>3176fa54-31ed-4521-84da-2d410263972a</td>\n",
       "      <td>5f64716a-0d76-40d6-aa94-132aad1a5ef9</td>\n",
       "      <td>Write an article as the introduction to Insura...</td>\n",
       "      <td>## Overview of Insurance Fraud  \\n- what is in...</td>\n",
       "      <td>[{\"section\":\"Overview of Insurance Fraud\",\"que...</td>\n",
       "      <td>not start</td>\n",
       "      <td>None</td>\n",
       "      <td>None</td>\n",
       "      <td>None</td>\n",
       "      <td>None</td>\n",
       "      <td>2025-05-05 01:54:01.973544</td>\n",
       "      <td>2025-05-05 01:54:16.861038</td>\n",
       "    </tr>\n",
       "  </tbody>\n",
       "</table>\n",
       "</div>"
      ],
      "text/plain": [
       "                             session_id                               user_id  \\\n",
       "0  3176fa54-31ed-4521-84da-2d410263972a  5f64716a-0d76-40d6-aa94-132aad1a5ef9   \n",
       "\n",
       "                                       tone_of_voice  \\\n",
       "0  Write an article as the introduction to Insura...   \n",
       "\n",
       "                                             outline  \\\n",
       "0  ## Overview of Insurance Fraud  \\n- what is in...   \n",
       "\n",
       "                                      parsed_outline       step step_remark  \\\n",
       "0  [{\"section\":\"Overview of Insurance Fraud\",\"que...  not start        None   \n",
       "\n",
       "  knowledge enrich publish                 created_at  \\\n",
       "0      None   None    None 2025-05-05 01:54:01.973544   \n",
       "\n",
       "                  updated_at  \n",
       "0 2025-05-05 01:54:16.861038  "
      ]
     },
     "execution_count": 45,
     "metadata": {},
     "output_type": "execute_result"
    }
   ],
   "source": [
    "sessionDB.read_all()"
   ]
  },
  {
   "cell_type": "markdown",
   "id": "d2fc9f05-3abf-4045-86d9-8336e036f65b",
   "metadata": {},
   "source": [
    "# research"
   ]
  },
  {
   "cell_type": "code",
   "execution_count": 46,
   "id": "b04bb621-e8dc-4d13-84ec-46744d5e018e",
   "metadata": {},
   "outputs": [
    {
     "data": {
      "text/plain": [
       "{'response': 'success'}"
      ]
     },
     "execution_count": 46,
     "metadata": {},
     "output_type": "execute_result"
    }
   ],
   "source": [
    "headers = {\"Content-type\": \"application/json\"}\n",
    "payload = {\n",
    "    \"session_id\": session_id,\n",
    "    \"user_id\": user_id\n",
    "}\n",
    "\n",
    "response = requests.post(f\"{BASE_URL}/v1/session/research\", headers=headers, json=payload)\n",
    "response.json()"
   ]
  },
  {
   "cell_type": "code",
   "execution_count": 48,
   "id": "02a88d85-c2fa-446b-b0c9-9218cf3f5ec0",
   "metadata": {},
   "outputs": [
    {
     "data": {
      "text/html": [
       "<div>\n",
       "<style scoped>\n",
       "    .dataframe tbody tr th:only-of-type {\n",
       "        vertical-align: middle;\n",
       "    }\n",
       "\n",
       "    .dataframe tbody tr th {\n",
       "        vertical-align: top;\n",
       "    }\n",
       "\n",
       "    .dataframe thead th {\n",
       "        text-align: right;\n",
       "    }\n",
       "</style>\n",
       "<table border=\"1\" class=\"dataframe\">\n",
       "  <thead>\n",
       "    <tr style=\"text-align: right;\">\n",
       "      <th></th>\n",
       "      <th>session_id</th>\n",
       "      <th>user_id</th>\n",
       "      <th>tone_of_voice</th>\n",
       "      <th>outline</th>\n",
       "      <th>parsed_outline</th>\n",
       "      <th>step</th>\n",
       "      <th>step_remark</th>\n",
       "      <th>knowledge</th>\n",
       "      <th>enrich</th>\n",
       "      <th>publish</th>\n",
       "      <th>created_at</th>\n",
       "      <th>updated_at</th>\n",
       "    </tr>\n",
       "  </thead>\n",
       "  <tbody>\n",
       "    <tr>\n",
       "      <th>0</th>\n",
       "      <td>3176fa54-31ed-4521-84da-2d410263972a</td>\n",
       "      <td>5f64716a-0d76-40d6-aa94-132aad1a5ef9</td>\n",
       "      <td>Write an article as the introduction to Insura...</td>\n",
       "      <td>## Overview of Insurance Fraud  \\n- what is in...</td>\n",
       "      <td>[{\"section\":\"Overview of Insurance Fraud\",\"que...</td>\n",
       "      <td>publish</td>\n",
       "      <td>None</td>\n",
       "      <td>{\"sections\":[{\"section\":\"Overview of Insurance...</td>\n",
       "      <td>{\"sections\":[{\"section\":\"Overview of Insurance...</td>\n",
       "      <td>## Overview of Insurance Fraud\\n\\nAs a new fra...</td>\n",
       "      <td>2025-05-05 01:54:01.973544</td>\n",
       "      <td>2025-05-05 01:54:58.530140</td>\n",
       "    </tr>\n",
       "  </tbody>\n",
       "</table>\n",
       "</div>"
      ],
      "text/plain": [
       "                             session_id                               user_id  \\\n",
       "0  3176fa54-31ed-4521-84da-2d410263972a  5f64716a-0d76-40d6-aa94-132aad1a5ef9   \n",
       "\n",
       "                                       tone_of_voice  \\\n",
       "0  Write an article as the introduction to Insura...   \n",
       "\n",
       "                                             outline  \\\n",
       "0  ## Overview of Insurance Fraud  \\n- what is in...   \n",
       "\n",
       "                                      parsed_outline     step step_remark  \\\n",
       "0  [{\"section\":\"Overview of Insurance Fraud\",\"que...  publish        None   \n",
       "\n",
       "                                           knowledge  \\\n",
       "0  {\"sections\":[{\"section\":\"Overview of Insurance...   \n",
       "\n",
       "                                              enrich  \\\n",
       "0  {\"sections\":[{\"section\":\"Overview of Insurance...   \n",
       "\n",
       "                                             publish  \\\n",
       "0  ## Overview of Insurance Fraud\\n\\nAs a new fra...   \n",
       "\n",
       "                  created_at                 updated_at  \n",
       "0 2025-05-05 01:54:01.973544 2025-05-05 01:54:58.530140  "
      ]
     },
     "execution_count": 48,
     "metadata": {},
     "output_type": "execute_result"
    }
   ],
   "source": [
    "sessionDB.get_session(session_id)"
   ]
  },
  {
   "cell_type": "code",
   "execution_count": 47,
   "id": "45992967-65f2-4b7f-a07a-ece27b627c8c",
   "metadata": {},
   "outputs": [
    {
     "name": "stdout",
     "output_type": "stream",
     "text": [
      "## Overview of Insurance Fraud\n",
      "\n",
      "As a new fraud investigator, it's essential to understand the basics of insurance fraud. Insurance fraud refers to a deceptive act against an insurance company by a person, usually for financial gain [1]. This type of fraud can be committed by anyone, including applicants, policyholders, and third-party claimants, and can result in significant financial losses for insurance companies.\n",
      "\n",
      "So, what does insurance fraud look like? It can take many forms, but there are two main types: hard fraud and soft fraud [1]. Hard fraud is pre-meditated and planned, where the person performing the fraud deliberately causes an act that results in a fraudulent insurance claim [1]. For example, someone might stage a car accident or fake a burglary to collect insurance money. Soft fraud, on the other hand, is usually unplanned and occurs when a policyholder exaggerates a claim for a larger payout [1]. This can be harder to detect, as it often stems from a legitimate claim.\n",
      "\n",
      "Some common examples of insurance fraud include false theft claims, false claims, and identity theft to secure health benefits [1]. False theft claims involve filing a false police report for property stolen during a faked burglary, with the intent of collecting an insurance payout [1]. False claims can be filed in almost any insurance industry, including life, automobile, property, and unemployment [2]. Additionally, exaggerated claims involve inflating the true damages suffered for a higher insurance payout, and can be challenging to detect [2].\n",
      "\n",
      "Other schemes to look out for include arson-for-profit, disaster fraud, and medical fraud [3]. Arson-for-profit involves deliberately burning a business, home, or vehicle to collect insurance money [3]. Disaster fraud involves unscrupulous operators persuading disaster victims to claim more damages than actually occurred [3]. Medical fraud involves unethical medical practitioners or providers working in concert with scheming patients to create fictitious, accident-related injuries to collect on fraudulent disability, workers compensation, and personal injury claims [3].\n",
      "\n",
      "As a fraud investigator, it's crucial to understand the different types of insurance fraud and how they can be committed. According to the FBI, non-healthcare insurance fraud costs around $40 billion a year for insurance companies, resulting in a $400-$700 yearly increase in premiums for the average American family [1]. By investigating claims thoroughly and understanding the consequences of making false claims, we can work together to prevent insurance fraud and reduce its devastating monetary consequences on organizations and consumers [2].\n",
      "\n",
      "References:\n",
      "[1] https://www.progressive.com/answers/insurance-fraud/\n",
      "[2] https://www.unit21.ai/blog/combating-insurance-fraud\n",
      "[3] https://doi.nebraska.gov/sites/default/files/doc/examples.pdf\n"
     ]
    }
   ],
   "source": [
    "print(sessionDB.get_session(session_id)['publish'][0])"
   ]
  },
  {
   "cell_type": "markdown",
   "id": "a3fd5cb9-cedc-486e-abba-ef8cf8197129",
   "metadata": {},
   "source": [
    "## research/knowledge"
   ]
  },
  {
   "cell_type": "code",
   "execution_count": 55,
   "id": "60bdf543-4c97-43f6-bc7e-e76d44c9b1b3",
   "metadata": {},
   "outputs": [
    {
     "data": {
      "text/plain": [
       "{'sections': [{'section': 'Overview of Insurance Fraud',\n",
       "   'questions': [{'question': 'what is insurance fraud look like',\n",
       "     'retrieved_ids': ['7635593a-f400-4182-91f4-8b0fc69363bf',\n",
       "      'f15c7809-3bca-448b-9845-9e80b219ea69',\n",
       "      '0b38ed4d-2354-437d-9159-ff6018ef9a00',\n",
       "      'd7cb0d21-c1fc-49ea-8e5a-bb5d1f9ee365',\n",
       "      'd67794fb-6b20-4ee5-aee5-b7a53b19c7b6']}]}]}"
      ]
     },
     "execution_count": 55,
     "metadata": {},
     "output_type": "execute_result"
    }
   ],
   "source": [
    "headers = {\"Content-type\": \"application/json\"}\n",
    "payload = {\n",
    "    \"session_id\": session_id,\n",
    "    \"user_id\": user_id\n",
    "}\n",
    "\n",
    "response = requests.post(f\"{BASE_URL}/v1/session/research/knowledge\", headers=headers, json=payload)\n",
    "response.json()['response']"
   ]
  },
  {
   "cell_type": "markdown",
   "id": "ddb84f59-0237-489f-a707-d9a9af37089f",
   "metadata": {},
   "source": [
    "## research/enrich"
   ]
  },
  {
   "cell_type": "code",
   "execution_count": 57,
   "id": "b9d3318f-f41a-43fc-95ea-11829aa75705",
   "metadata": {},
   "outputs": [
    {
     "data": {
      "text/plain": [
       "{'sections': [{'section': 'Overview of Insurance Fraud',\n",
       "   'questions': [{'question': 'what is insurance fraud look like',\n",
       "     'answer': \"Insurance fraud refers to a deceptive act against an insurance company by a person, usually for financial gain [1]. According to the FBI, non-healthcare insurance fraud costs around $40 billion a year for insurance companies, resulting in a $400-$700 yearly increase in premiums for the average American family [1]. Insurance fraud can be committed by applicants, policyholders, and third-party claimants during a transaction to obtain benefits to which they're not entitled [1].\\n\\nThere are two main types of insurance fraud: hard fraud and soft fraud [1]. Hard fraud is pre-meditated and planned, where the person performing the fraud deliberately causes an act that results in a fraudulent insurance claim [1]. Soft fraud, on the other hand, is usually unplanned and occurs when a policyholder exaggerates a claim for a larger payout [1]. Soft fraud is harder to prove because it stems from a legitimate claim and is significantly more common than hard fraud [1].\\n\\nCommon insurance frauds include false theft fraud, false claims fraud, and identity theft to secure health benefits [1]. False theft fraud occurs when a person files a false police report for property stolen during a faked burglary with the intent of collecting an insurance payout [1]. False claims fraud involves a policyholder staging a claim or filing a claim that never happened, such as intentionally causing a car accident or faking death to collect a life insurance payout [1]. Identity theft to secure health benefits involves using someone else's identity to use and receive healthcare benefits [1].\\n\\nInsurance fraud can also be committed by buyers, who can make entirely false claims, exaggerate legitimate claims, or lie for lower premiums [2]. False claims can be filed in almost any insurance industry, including life, automobile, property, and unemployment [2]. Exaggerated claims involve inflating the true damages suffered for a higher insurance payout, and can be challenging to detect [2].\\n\\nIn addition to these types of fraud, there are also other schemes to look out for, such as arson-for-profit, disaster fraud, and medical fraud [3]. Arson-for-profit involves deliberately burning a business, home, or vehicle to collect insurance money [3]. Disaster fraud involves unscrupulous operators persuading disaster fraud victims to claim more damages than actually occurred [3]. Medical fraud involves unethical medical practitioners or providers working in concert with scheming patients to create fictitious, accident-related injuries to collect on fraudulent disability, workers compensation, and personal injury claims [3].\\n\\nOverall, insurance fraud is a significant problem that can have devastating monetary consequences on organizations and drive up premium costs for other consumers [2]. It is essential for insurance companies to investigate claims thoroughly and for customers to understand the consequences of making false claims [2].\\n\\nReferences:\\n[1] https://www.progressive.com/answers/insurance-fraud/\\n[2] https://www.unit21.ai/blog/combating-insurance-fraud\\n[3] https://doi.nebraska.gov/sites/default/files/doc/examples.pdf\"}]}]}"
      ]
     },
     "execution_count": 57,
     "metadata": {},
     "output_type": "execute_result"
    }
   ],
   "source": [
    "headers = {\"Content-type\": \"application/json\"}\n",
    "payload = {\n",
    "    \"session_id\": session_id,\n",
    "    \"user_id\": user_id\n",
    "}\n",
    "\n",
    "response = requests.post(f\"{BASE_URL}/v1/session/research/enrich\", headers=headers, json=payload)\n",
    "response.json()['response']"
   ]
  },
  {
   "cell_type": "markdown",
   "id": "f97f284a-6db8-4c9b-8e06-171d565aac8a",
   "metadata": {},
   "source": [
    "## research/publish"
   ]
  },
  {
   "cell_type": "code",
   "execution_count": 59,
   "id": "e59ab874-9e21-497c-b9fe-f253c70cb823",
   "metadata": {},
   "outputs": [
    {
     "name": "stdout",
     "output_type": "stream",
     "text": [
      "## Overview of Insurance Fraud\n",
      "\n",
      "As a new fraud investigator, it's essential to understand the basics of insurance fraud. Insurance fraud refers to a deceptive act against an insurance company by a person, usually for financial gain [1]. This type of fraud can be committed by anyone, including applicants, policyholders, and third-party claimants, and can result in significant financial losses for insurance companies.\n",
      "\n",
      "So, what does insurance fraud look like? It can take many forms, but there are two main types: hard fraud and soft fraud [1]. Hard fraud is pre-meditated and planned, where the person performing the fraud deliberately causes an act that results in a fraudulent insurance claim [1]. For example, someone might stage a car accident or fake a burglary to collect insurance money. Soft fraud, on the other hand, is usually unplanned and occurs when a policyholder exaggerates a claim for a larger payout [1]. This can be harder to detect, as it often stems from a legitimate claim.\n",
      "\n",
      "Some common examples of insurance fraud include false theft claims, false claims, and identity theft to secure health benefits [1]. False theft claims involve filing a false police report for property stolen during a faked burglary, with the intent of collecting an insurance payout [1]. False claims can be filed in almost any insurance industry, including life, automobile, property, and unemployment [2]. Additionally, exaggerated claims involve inflating the true damages suffered for a higher insurance payout, and can be challenging to detect [2].\n",
      "\n",
      "Other schemes to look out for include arson-for-profit, disaster fraud, and medical fraud [3]. Arson-for-profit involves deliberately burning a business, home, or vehicle to collect insurance money [3]. Disaster fraud involves unscrupulous operators persuading disaster victims to claim more damages than actually occurred [3]. Medical fraud involves unethical medical practitioners or providers working in concert with scheming patients to create fictitious, accident-related injuries to collect on fraudulent disability, workers compensation, and personal injury claims [3].\n",
      "\n",
      "As a fraud investigator, it's crucial to understand the different types of insurance fraud and how they can be committed. According to the FBI, non-healthcare insurance fraud costs around $40 billion a year for insurance companies, resulting in a $400-$700 yearly increase in premiums for the average American family [1]. By investigating claims thoroughly and understanding the consequences of making false claims, we can work together to prevent insurance fraud and reduce its devastating monetary consequences on organizations and consumers [2].\n",
      "\n",
      "References:\n",
      "[1] https://www.progressive.com/answers/insurance-fraud/\n",
      "[2] https://www.unit21.ai/blog/combating-insurance-fraud\n",
      "[3] https://doi.nebraska.gov/sites/default/files/doc/examples.pdf\n"
     ]
    }
   ],
   "source": [
    "headers = {\"Content-type\": \"application/json\"}\n",
    "payload = {\n",
    "    \"session_id\": session_id,\n",
    "    \"user_id\": user_id\n",
    "}\n",
    "\n",
    "response = requests.post(f\"{BASE_URL}/v1/session/research/publish\", headers=headers, json=payload)\n",
    "print(response.json()['response'])"
   ]
  },
  {
   "cell_type": "code",
   "execution_count": null,
   "id": "a8ec2078-37b1-4cb1-800d-e645d65d208a",
   "metadata": {},
   "outputs": [],
   "source": []
  }
 ],
 "metadata": {
  "kernelspec": {
   "display_name": "broai-rr",
   "language": "python",
   "name": "broai-rr"
  },
  "language_info": {
   "codemirror_mode": {
    "name": "ipython",
    "version": 3
   },
   "file_extension": ".py",
   "mimetype": "text/x-python",
   "name": "python",
   "nbconvert_exporter": "python",
   "pygments_lexer": "ipython3",
   "version": "3.11.12"
  }
 },
 "nbformat": 4,
 "nbformat_minor": 5
}
