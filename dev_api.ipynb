{
 "cells": [
  {
   "cell_type": "code",
   "execution_count": 1,
   "id": "e151f3f2-8cd3-4db9-89c4-04d30ebaab48",
   "metadata": {},
   "outputs": [],
   "source": [
    "%load_ext autoreload\n",
    "%autoreload 2"
   ]
  },
  {
   "cell_type": "code",
   "execution_count": 2,
   "id": "14d7adbc-d6dc-4c03-b6cb-e81e0aee89fa",
   "metadata": {},
   "outputs": [],
   "source": [
    "import requests\n",
    "BASE_URL = \"http://localhost:8000\""
   ]
  },
  {
   "cell_type": "code",
   "execution_count": 10,
   "id": "a861b80b-bf49-4f41-a585-a84e07cf172c",
   "metadata": {},
   "outputs": [
    {
     "data": {
      "text/plain": [
       "<function requests.api.get(url, params=None, **kwargs)>"
      ]
     },
     "execution_count": 10,
     "metadata": {},
     "output_type": "execute_result"
    }
   ],
   "source": [
    "requests.get # for get"
   ]
  },
  {
   "cell_type": "code",
   "execution_count": 11,
   "id": "c281a0f7-e931-4a15-96e4-c39ab9c9fe77",
   "metadata": {},
   "outputs": [
    {
     "data": {
      "text/plain": [
       "<function requests.api.post(url, data=None, json=None, **kwargs)>"
      ]
     },
     "execution_count": 11,
     "metadata": {},
     "output_type": "execute_result"
    }
   ],
   "source": [
    "requests.post # for post"
   ]
  },
  {
   "cell_type": "code",
   "execution_count": 12,
   "id": "93afa1e0-eb66-4a85-91ff-fc22498b04b1",
   "metadata": {},
   "outputs": [
    {
     "data": {
      "text/plain": [
       "<function requests.api.delete(url, **kwargs)>"
      ]
     },
     "execution_count": 12,
     "metadata": {},
     "output_type": "execute_result"
    }
   ],
   "source": [
    "requests.delete # for delete"
   ]
  },
  {
   "cell_type": "code",
   "execution_count": 13,
   "id": "ece1eb9c-1cd2-4815-9a60-dd86526a6d0a",
   "metadata": {},
   "outputs": [
    {
     "data": {
      "text/plain": [
       "<function requests.api.put(url, data=None, **kwargs)>"
      ]
     },
     "execution_count": 13,
     "metadata": {},
     "output_type": "execute_result"
    }
   ],
   "source": [
    "requests.put # for update"
   ]
  },
  {
   "cell_type": "code",
   "execution_count": 19,
   "id": "ee6a9ac2-6a0b-4394-accd-57f76b3f68da",
   "metadata": {},
   "outputs": [
    {
     "data": {
      "text/plain": [
       "{'message': 'alive'}"
      ]
     },
     "execution_count": 19,
     "metadata": {},
     "output_type": "execute_result"
    }
   ],
   "source": [
    "response = requests.get(f\"{BASE_URL}\")\n",
    "response.json()"
   ]
  },
  {
   "cell_type": "code",
   "execution_count": 34,
   "id": "8cd5766a-5d6c-4bfb-b69a-115e94fde0ae",
   "metadata": {},
   "outputs": [
    {
     "data": {
      "text/plain": [
       "{'response': ['session1', 'session2']}"
      ]
     },
     "execution_count": 34,
     "metadata": {},
     "output_type": "execute_result"
    }
   ],
   "source": [
    "response = requests.get(f\"{BASE_URL}/v1/session\")\n",
    "response.json()"
   ]
  },
  {
   "cell_type": "code",
   "execution_count": 35,
   "id": "918d1115-d20e-478b-aaf3-ac8cf6b57ad9",
   "metadata": {},
   "outputs": [
    {
     "data": {
      "text/plain": [
       "{'response': 'session created successfully'}"
      ]
     },
     "execution_count": 35,
     "metadata": {},
     "output_type": "execute_result"
    }
   ],
   "source": [
    "response = requests.post(f\"{BASE_URL}/v1/session\")\n",
    "response.json()"
   ]
  },
  {
   "cell_type": "markdown",
   "id": "5e43873f-7f9c-4ee0-b830-dd893204c059",
   "metadata": {},
   "source": [
    "# User"
   ]
  },
  {
   "cell_type": "markdown",
   "id": "9638b96b-ecd8-4c3d-af86-074d9f6e83e4",
   "metadata": {},
   "source": [
    "## Register"
   ]
  },
  {
   "cell_type": "code",
   "execution_count": 10,
   "id": "d2881303-da7b-4b86-bcec-e5022ec0e295",
   "metadata": {},
   "outputs": [
    {
     "data": {
      "text/plain": [
       "{'response': 'success'}"
      ]
     },
     "execution_count": 10,
     "metadata": {},
     "output_type": "execute_result"
    }
   ],
   "source": [
    "headers = {\"Content-type\": \"application/json\"}\n",
    "payload = {\n",
    "    \"username\": \"bank\",\n",
    "    \"password\": \"P@ssw0rd\",\n",
    "}\n",
    "\n",
    "response = requests.post(f\"{BASE_URL}/v1/user/register\", headers=headers, json=payload)\n",
    "response.json()"
   ]
  },
  {
   "cell_type": "code",
   "execution_count": 11,
   "id": "192a2cf4-e2a3-4f60-8310-07de73688835",
   "metadata": {},
   "outputs": [
    {
     "data": {
      "text/plain": [
       "{'response': 'Constraint Error: Duplicate key \"username: bank\" violates unique constraint.'}"
      ]
     },
     "execution_count": 11,
     "metadata": {},
     "output_type": "execute_result"
    }
   ],
   "source": [
    "headers = {\"Content-type\": \"application/json\"}\n",
    "payload = {\n",
    "    \"username\": \"bank\",\n",
    "    \"password\": \"P@ssw0rd\",\n",
    "}\n",
    "\n",
    "response = requests.post(f\"{BASE_URL}/v1/user/register\", headers=headers, json=payload)\n",
    "response.json()"
   ]
  },
  {
   "cell_type": "markdown",
   "id": "b91fd359-33e2-4d32-baac-07594eb68406",
   "metadata": {},
   "source": [
    "## Login"
   ]
  },
  {
   "cell_type": "code",
   "execution_count": 12,
   "id": "e6b57dd6-8bf9-4564-b8cc-a78286f0d863",
   "metadata": {},
   "outputs": [
    {
     "data": {
      "text/plain": [
       "{'user_id': '5199c1ff-aef5-4149-a77d-ca197ad92330', 'username': 'bank'}"
      ]
     },
     "execution_count": 12,
     "metadata": {},
     "output_type": "execute_result"
    }
   ],
   "source": [
    "headers = {\"Content-type\": \"application/json\"}\n",
    "payload = {\n",
    "    \"username\": \"bank\",\n",
    "    \"password\": \"P@ssw0rd\",\n",
    "}\n",
    "\n",
    "response = requests.post(f\"{BASE_URL}/v1/user/login\", headers=headers, json=payload)\n",
    "response.json()"
   ]
  },
  {
   "cell_type": "code",
   "execution_count": 13,
   "id": "baa2c818-e65e-4d50-b4d3-19708edcfbd5",
   "metadata": {},
   "outputs": [
    {
     "data": {
      "text/plain": [
       "'5199c1ff-aef5-4149-a77d-ca197ad92330'"
      ]
     },
     "execution_count": 13,
     "metadata": {},
     "output_type": "execute_result"
    }
   ],
   "source": [
    "user_id = response.json()['user_id']\n",
    "user_id"
   ]
  },
  {
   "cell_type": "code",
   "execution_count": 14,
   "id": "4b000324-224e-4d5b-b1ab-491af7dddf09",
   "metadata": {},
   "outputs": [
    {
     "data": {
      "text/plain": [
       "{'response': 'username: bonk not found'}"
      ]
     },
     "execution_count": 14,
     "metadata": {},
     "output_type": "execute_result"
    }
   ],
   "source": [
    "headers = {\"Content-type\": \"application/json\"}\n",
    "payload = {\n",
    "    \"username\": \"bonk\",\n",
    "    \"password\": \"P@ssw0rd\",\n",
    "}\n",
    "\n",
    "response = requests.post(f\"{BASE_URL}/v1/user/login\", headers=headers, json=payload)\n",
    "response.json()"
   ]
  },
  {
   "cell_type": "code",
   "execution_count": 15,
   "id": "66729f91-464a-4407-b6da-d41deaa5c023",
   "metadata": {},
   "outputs": [
    {
     "data": {
      "text/plain": [
       "{'response': 'incorrect password'}"
      ]
     },
     "execution_count": 15,
     "metadata": {},
     "output_type": "execute_result"
    }
   ],
   "source": [
    "headers = {\"Content-type\": \"application/json\"}\n",
    "payload = {\n",
    "    \"username\": \"bank\",\n",
    "    \"password\": \"P@ssward\",\n",
    "}\n",
    "\n",
    "response = requests.post(f\"{BASE_URL}/v1/user/login\", headers=headers, json=payload)\n",
    "response.json()"
   ]
  },
  {
   "cell_type": "markdown",
   "id": "b3f692b6-ac59-4b78-95e4-e55db47e863c",
   "metadata": {},
   "source": [
    "# Session"
   ]
  },
  {
   "cell_type": "markdown",
   "id": "6c500776-cce0-4b97-9d7e-ec966a497065",
   "metadata": {},
   "source": [
    "## Create"
   ]
  },
  {
   "cell_type": "code",
   "execution_count": 16,
   "id": "ca79e014-9bc7-4889-b7a9-1341d06341f1",
   "metadata": {},
   "outputs": [
    {
     "data": {
      "text/plain": [
       "{'response': 'success'}"
      ]
     },
     "execution_count": 16,
     "metadata": {},
     "output_type": "execute_result"
    }
   ],
   "source": [
    "headers = {\"Content-type\": \"application/json\"}\n",
    "payload = {\n",
    "    \"user_id\": user_id,\n",
    "}\n",
    "\n",
    "response = requests.post(f\"{BASE_URL}/v1/session/create\", headers=headers, json=payload)\n",
    "response.json()"
   ]
  },
  {
   "cell_type": "markdown",
   "id": "b4929696-f880-4c7b-a794-f55b57809ba0",
   "metadata": {},
   "source": [
    "## list"
   ]
  },
  {
   "cell_type": "code",
   "execution_count": 17,
   "id": "b1bb1d7b-3f4d-479a-82d3-3577781bdc25",
   "metadata": {},
   "outputs": [
    {
     "data": {
      "text/plain": [
       "{'response': [{'session_id': '57e9aebe-35dc-45a5-bb2a-5e748aa18d0f',\n",
       "   'user_id': '5199c1ff-aef5-4149-a77d-ca197ad92330',\n",
       "   'tone_of_voice': None,\n",
       "   'outline': None,\n",
       "   'step': 'not start',\n",
       "   'step_remark': None,\n",
       "   'knowledge': None,\n",
       "   'enrich': None,\n",
       "   'publish': None,\n",
       "   'created_at': '2025-05-04T18:39:11.214452',\n",
       "   'updated_at': '2025-05-04T18:39:11.214452'}]}"
      ]
     },
     "execution_count": 17,
     "metadata": {},
     "output_type": "execute_result"
    }
   ],
   "source": [
    "headers = {\"Content-type\": \"application/json\"}\n",
    "payload = {\n",
    "    \"user_id\": user_id,\n",
    "}\n",
    "\n",
    "response = requests.post(f\"{BASE_URL}/v1/session/list\", headers=headers, json=payload)\n",
    "response.json()"
   ]
  },
  {
   "cell_type": "code",
   "execution_count": 18,
   "id": "a8236bbc-053b-4830-bc7d-79d44933e8cb",
   "metadata": {},
   "outputs": [
    {
     "data": {
      "text/plain": [
       "'57e9aebe-35dc-45a5-bb2a-5e748aa18d0f'"
      ]
     },
     "execution_count": 18,
     "metadata": {},
     "output_type": "execute_result"
    }
   ],
   "source": [
    "session_id = response.json()['response'][0]['session_id']\n",
    "session_id"
   ]
  },
  {
   "cell_type": "code",
   "execution_count": 19,
   "id": "4e665e75-14d4-4498-86de-6fee71500f1f",
   "metadata": {},
   "outputs": [
    {
     "data": {
      "text/plain": [
       "{'response': []}"
      ]
     },
     "execution_count": 19,
     "metadata": {},
     "output_type": "execute_result"
    }
   ],
   "source": [
    "headers = {\"Content-type\": \"application/json\"}\n",
    "payload = {\n",
    "    \"user_id\": \"fake\",\n",
    "}\n",
    "\n",
    "response = requests.post(f\"{BASE_URL}/v1/session/list\", headers=headers, json=payload)\n",
    "response.json()"
   ]
  },
  {
   "cell_type": "markdown",
   "id": "eda5a4a2-3950-42f9-beff-0f3b566104ca",
   "metadata": {},
   "source": [
    "## research: update_tone_outline"
   ]
  },
  {
   "cell_type": "code",
   "execution_count": 20,
   "id": "28855dcf-ad9c-4beb-89da-09c3aebf78f0",
   "metadata": {},
   "outputs": [
    {
     "data": {
      "text/plain": [
       "{'response': 'success'}"
      ]
     },
     "execution_count": 20,
     "metadata": {},
     "output_type": "execute_result"
    }
   ],
   "source": [
    "headers = {\"Content-type\": \"application/json\"}\n",
    "payload = {\n",
    "    \"session_id\": session_id,\n",
    "    \"tone_of_voice\": \"tone\",\n",
    "    \"outline\": \"outline123\"\n",
    "}\n",
    "\n",
    "response = requests.put(f\"{BASE_URL}/v1/session/update-tone-of-voice-and-outline\", headers=headers, json=payload)\n",
    "response.json()"
   ]
  },
  {
   "cell_type": "code",
   "execution_count": 21,
   "id": "7c64143a-97f5-4bcb-a98b-195a9709da2e",
   "metadata": {},
   "outputs": [
    {
     "data": {
      "text/plain": [
       "{'response': [{'session_id': '57e9aebe-35dc-45a5-bb2a-5e748aa18d0f',\n",
       "   'user_id': '5199c1ff-aef5-4149-a77d-ca197ad92330',\n",
       "   'tone_of_voice': 'tone',\n",
       "   'outline': 'outline123',\n",
       "   'step': 'not start',\n",
       "   'step_remark': None,\n",
       "   'knowledge': None,\n",
       "   'enrich': None,\n",
       "   'publish': None,\n",
       "   'created_at': '2025-05-04T18:39:11.214452',\n",
       "   'updated_at': '2025-05-04T18:39:17.482980'}]}"
      ]
     },
     "execution_count": 21,
     "metadata": {},
     "output_type": "execute_result"
    }
   ],
   "source": [
    "headers = {\"Content-type\": \"application/json\"}\n",
    "payload = {\n",
    "    \"user_id\": user_id,\n",
    "}\n",
    "\n",
    "response = requests.post(f\"{BASE_URL}/v1/session/list\", headers=headers, json=payload)\n",
    "response.json()"
   ]
  },
  {
   "cell_type": "markdown",
   "id": "a2b2dba2-a1a3-4ac0-8c67-05d2696302cb",
   "metadata": {},
   "source": [
    "# Test"
   ]
  },
  {
   "cell_type": "code",
   "execution_count": 22,
   "id": "1a8a70d6-813f-49e5-9843-ea94a5cedf69",
   "metadata": {},
   "outputs": [],
   "source": [
    "from dotenv import load_dotenv\n",
    "import os\n",
    "load_dotenv()  # take environment variables\n",
    "from package.database.user import UserDB, UserRegister, UserLogin\n",
    "from package.database.session import SessionDB, Knowledge, KnowledgeSection, KnowledgeQuestion, SessionKnowledge, SessionStep\n",
    "from package.database.session import SessionEnrich, EnrichSection, EnrichQuestion, Enrich, SessionPublish"
   ]
  },
  {
   "cell_type": "code",
   "execution_count": 23,
   "id": "c52ceeec-f760-4355-9055-37651a749e3f",
   "metadata": {},
   "outputs": [],
   "source": [
    "userDB = UserDB(db_name=os.getenv(\"DB_NAME\"))\n",
    "sessionDB = SessionDB(db_name=os.getenv(\"DB_NAME\"))"
   ]
  },
  {
   "cell_type": "code",
   "execution_count": 24,
   "id": "ce745ab6-fe37-4771-b29b-db21eec0075b",
   "metadata": {},
   "outputs": [
    {
     "data": {
      "text/html": [
       "<div>\n",
       "<style scoped>\n",
       "    .dataframe tbody tr th:only-of-type {\n",
       "        vertical-align: middle;\n",
       "    }\n",
       "\n",
       "    .dataframe tbody tr th {\n",
       "        vertical-align: top;\n",
       "    }\n",
       "\n",
       "    .dataframe thead th {\n",
       "        text-align: right;\n",
       "    }\n",
       "</style>\n",
       "<table border=\"1\" class=\"dataframe\">\n",
       "  <thead>\n",
       "    <tr style=\"text-align: right;\">\n",
       "      <th></th>\n",
       "      <th>user_id</th>\n",
       "      <th>username</th>\n",
       "      <th>password</th>\n",
       "      <th>created_at</th>\n",
       "      <th>updated_at</th>\n",
       "    </tr>\n",
       "  </thead>\n",
       "  <tbody>\n",
       "    <tr>\n",
       "      <th>0</th>\n",
       "      <td>5199c1ff-aef5-4149-a77d-ca197ad92330</td>\n",
       "      <td>bank</td>\n",
       "      <td>P@ssw0rd</td>\n",
       "      <td>2025-05-04 18:39:07.096797</td>\n",
       "      <td>2025-05-04 18:39:07.096797</td>\n",
       "    </tr>\n",
       "  </tbody>\n",
       "</table>\n",
       "</div>"
      ],
      "text/plain": [
       "                                user_id username  password  \\\n",
       "0  5199c1ff-aef5-4149-a77d-ca197ad92330     bank  P@ssw0rd   \n",
       "\n",
       "                  created_at                 updated_at  \n",
       "0 2025-05-04 18:39:07.096797 2025-05-04 18:39:07.096797  "
      ]
     },
     "execution_count": 24,
     "metadata": {},
     "output_type": "execute_result"
    }
   ],
   "source": [
    "userDB.read_all()"
   ]
  },
  {
   "cell_type": "code",
   "execution_count": 25,
   "id": "df4f59b8-bade-4e01-91ef-764c0115e25e",
   "metadata": {},
   "outputs": [
    {
     "data": {
      "text/html": [
       "<div>\n",
       "<style scoped>\n",
       "    .dataframe tbody tr th:only-of-type {\n",
       "        vertical-align: middle;\n",
       "    }\n",
       "\n",
       "    .dataframe tbody tr th {\n",
       "        vertical-align: top;\n",
       "    }\n",
       "\n",
       "    .dataframe thead th {\n",
       "        text-align: right;\n",
       "    }\n",
       "</style>\n",
       "<table border=\"1\" class=\"dataframe\">\n",
       "  <thead>\n",
       "    <tr style=\"text-align: right;\">\n",
       "      <th></th>\n",
       "      <th>session_id</th>\n",
       "      <th>user_id</th>\n",
       "      <th>tone_of_voice</th>\n",
       "      <th>outline</th>\n",
       "      <th>step</th>\n",
       "      <th>step_remark</th>\n",
       "      <th>knowledge</th>\n",
       "      <th>enrich</th>\n",
       "      <th>publish</th>\n",
       "      <th>created_at</th>\n",
       "      <th>updated_at</th>\n",
       "    </tr>\n",
       "  </thead>\n",
       "  <tbody>\n",
       "    <tr>\n",
       "      <th>0</th>\n",
       "      <td>57e9aebe-35dc-45a5-bb2a-5e748aa18d0f</td>\n",
       "      <td>5199c1ff-aef5-4149-a77d-ca197ad92330</td>\n",
       "      <td>tone</td>\n",
       "      <td>outline123</td>\n",
       "      <td>not start</td>\n",
       "      <td>None</td>\n",
       "      <td>None</td>\n",
       "      <td>None</td>\n",
       "      <td>None</td>\n",
       "      <td>2025-05-04 18:39:11.214452</td>\n",
       "      <td>2025-05-04 18:39:17.482980</td>\n",
       "    </tr>\n",
       "  </tbody>\n",
       "</table>\n",
       "</div>"
      ],
      "text/plain": [
       "                             session_id                               user_id  \\\n",
       "0  57e9aebe-35dc-45a5-bb2a-5e748aa18d0f  5199c1ff-aef5-4149-a77d-ca197ad92330   \n",
       "\n",
       "  tone_of_voice     outline       step step_remark knowledge enrich publish  \\\n",
       "0          tone  outline123  not start        None      None   None    None   \n",
       "\n",
       "                  created_at                 updated_at  \n",
       "0 2025-05-04 18:39:11.214452 2025-05-04 18:39:17.482980  "
      ]
     },
     "execution_count": 25,
     "metadata": {},
     "output_type": "execute_result"
    }
   ],
   "source": [
    "sessionDB.read_all()"
   ]
  },
  {
   "cell_type": "code",
   "execution_count": 43,
   "id": "264f28bc-1f41-4d1c-b445-0e18799b2445",
   "metadata": {},
   "outputs": [
    {
     "data": {
      "text/html": [
       "<div>\n",
       "<style scoped>\n",
       "    .dataframe tbody tr th:only-of-type {\n",
       "        vertical-align: middle;\n",
       "    }\n",
       "\n",
       "    .dataframe tbody tr th {\n",
       "        vertical-align: top;\n",
       "    }\n",
       "\n",
       "    .dataframe thead th {\n",
       "        text-align: right;\n",
       "    }\n",
       "</style>\n",
       "<table border=\"1\" class=\"dataframe\">\n",
       "  <thead>\n",
       "    <tr style=\"text-align: right;\">\n",
       "      <th></th>\n",
       "      <th>Success</th>\n",
       "    </tr>\n",
       "  </thead>\n",
       "  <tbody>\n",
       "  </tbody>\n",
       "</table>\n",
       "</div>"
      ],
      "text/plain": [
       "Empty DataFrame\n",
       "Columns: [Success]\n",
       "Index: []"
      ]
     },
     "execution_count": 43,
     "metadata": {},
     "output_type": "execute_result"
    }
   ],
   "source": [
    "userDB.drop_table()"
   ]
  },
  {
   "cell_type": "code",
   "execution_count": 44,
   "id": "12258a08-f5f3-4995-b1ea-ddc5a8b277ed",
   "metadata": {},
   "outputs": [
    {
     "data": {
      "text/html": [
       "<div>\n",
       "<style scoped>\n",
       "    .dataframe tbody tr th:only-of-type {\n",
       "        vertical-align: middle;\n",
       "    }\n",
       "\n",
       "    .dataframe tbody tr th {\n",
       "        vertical-align: top;\n",
       "    }\n",
       "\n",
       "    .dataframe thead th {\n",
       "        text-align: right;\n",
       "    }\n",
       "</style>\n",
       "<table border=\"1\" class=\"dataframe\">\n",
       "  <thead>\n",
       "    <tr style=\"text-align: right;\">\n",
       "      <th></th>\n",
       "      <th>Success</th>\n",
       "    </tr>\n",
       "  </thead>\n",
       "  <tbody>\n",
       "  </tbody>\n",
       "</table>\n",
       "</div>"
      ],
      "text/plain": [
       "Empty DataFrame\n",
       "Columns: [Success]\n",
       "Index: []"
      ]
     },
     "execution_count": 44,
     "metadata": {},
     "output_type": "execute_result"
    }
   ],
   "source": [
    "sessionDB.drop_table()"
   ]
  },
  {
   "cell_type": "code",
   "execution_count": 26,
   "id": "fc88a251-498c-4fc4-b8aa-331021995e40",
   "metadata": {},
   "outputs": [],
   "source": [
    "kl = Knowledge(sections=[\n",
    "    KnowledgeSection(\n",
    "        section=\"Test S1\",\n",
    "        questions=[\n",
    "            KnowledgeQuestion(\n",
    "                question=\"Test Q1\",\n",
    "                retrieved_ids=[\"a\", \"b\", \"c\"]\n",
    "            ),\n",
    "            KnowledgeQuestion(\n",
    "                question=\"Test Q2\",\n",
    "                retrieved_ids=[\"a\", \"b\", \"c\"]\n",
    "            )\n",
    "        ]\n",
    "    ),\n",
    "    KnowledgeSection(\n",
    "        section=\"Test S2\",\n",
    "        questions=[\n",
    "            KnowledgeQuestion(\n",
    "                question=\"Test Q1\",\n",
    "                retrieved_ids=[\"a\", \"b\", \"c\"]\n",
    "            ),\n",
    "            KnowledgeQuestion(\n",
    "                question=\"Test Q2\",\n",
    "                retrieved_ids=[\"a\", \"b\", \"c\"]\n",
    "            )\n",
    "        ]\n",
    "    ),\n",
    "])\n",
    "skl = SessionKnowledge(session_id=session_id, step=SessionStep.ENRICH, knowledge=kl)"
   ]
  },
  {
   "cell_type": "code",
   "execution_count": 27,
   "id": "51dc452a-f260-46af-9c6f-e3eb0af29bcb",
   "metadata": {},
   "outputs": [
    {
     "data": {
      "text/html": [
       "<div>\n",
       "<style scoped>\n",
       "    .dataframe tbody tr th:only-of-type {\n",
       "        vertical-align: middle;\n",
       "    }\n",
       "\n",
       "    .dataframe tbody tr th {\n",
       "        vertical-align: top;\n",
       "    }\n",
       "\n",
       "    .dataframe thead th {\n",
       "        text-align: right;\n",
       "    }\n",
       "</style>\n",
       "<table border=\"1\" class=\"dataframe\">\n",
       "  <thead>\n",
       "    <tr style=\"text-align: right;\">\n",
       "      <th></th>\n",
       "      <th>Count</th>\n",
       "    </tr>\n",
       "  </thead>\n",
       "  <tbody>\n",
       "    <tr>\n",
       "      <th>0</th>\n",
       "      <td>1</td>\n",
       "    </tr>\n",
       "  </tbody>\n",
       "</table>\n",
       "</div>"
      ],
      "text/plain": [
       "   Count\n",
       "0      1"
      ]
     },
     "execution_count": 27,
     "metadata": {},
     "output_type": "execute_result"
    }
   ],
   "source": [
    "sessionDB.update_knowledge(skl)"
   ]
  },
  {
   "cell_type": "code",
   "execution_count": 28,
   "id": "9a20c9ff-c7c9-4be0-bb9d-0691c215f586",
   "metadata": {},
   "outputs": [
    {
     "data": {
      "text/html": [
       "<div>\n",
       "<style scoped>\n",
       "    .dataframe tbody tr th:only-of-type {\n",
       "        vertical-align: middle;\n",
       "    }\n",
       "\n",
       "    .dataframe tbody tr th {\n",
       "        vertical-align: top;\n",
       "    }\n",
       "\n",
       "    .dataframe thead th {\n",
       "        text-align: right;\n",
       "    }\n",
       "</style>\n",
       "<table border=\"1\" class=\"dataframe\">\n",
       "  <thead>\n",
       "    <tr style=\"text-align: right;\">\n",
       "      <th></th>\n",
       "      <th>session_id</th>\n",
       "      <th>user_id</th>\n",
       "      <th>tone_of_voice</th>\n",
       "      <th>outline</th>\n",
       "      <th>step</th>\n",
       "      <th>step_remark</th>\n",
       "      <th>knowledge</th>\n",
       "      <th>enrich</th>\n",
       "      <th>publish</th>\n",
       "      <th>created_at</th>\n",
       "      <th>updated_at</th>\n",
       "    </tr>\n",
       "  </thead>\n",
       "  <tbody>\n",
       "    <tr>\n",
       "      <th>0</th>\n",
       "      <td>57e9aebe-35dc-45a5-bb2a-5e748aa18d0f</td>\n",
       "      <td>5199c1ff-aef5-4149-a77d-ca197ad92330</td>\n",
       "      <td>tone</td>\n",
       "      <td>outline123</td>\n",
       "      <td>enrich</td>\n",
       "      <td>None</td>\n",
       "      <td>{\"sections\":[{\"section\":\"Test S1\",\"questions\":...</td>\n",
       "      <td>None</td>\n",
       "      <td>None</td>\n",
       "      <td>2025-05-04 18:39:11.214452</td>\n",
       "      <td>2025-05-04 18:39:29.970969</td>\n",
       "    </tr>\n",
       "  </tbody>\n",
       "</table>\n",
       "</div>"
      ],
      "text/plain": [
       "                             session_id                               user_id  \\\n",
       "0  57e9aebe-35dc-45a5-bb2a-5e748aa18d0f  5199c1ff-aef5-4149-a77d-ca197ad92330   \n",
       "\n",
       "  tone_of_voice     outline    step step_remark  \\\n",
       "0          tone  outline123  enrich        None   \n",
       "\n",
       "                                           knowledge enrich publish  \\\n",
       "0  {\"sections\":[{\"section\":\"Test S1\",\"questions\":...   None    None   \n",
       "\n",
       "                  created_at                 updated_at  \n",
       "0 2025-05-04 18:39:11.214452 2025-05-04 18:39:29.970969  "
      ]
     },
     "execution_count": 28,
     "metadata": {},
     "output_type": "execute_result"
    }
   ],
   "source": [
    "sessionDB.read_all()"
   ]
  },
  {
   "cell_type": "code",
   "execution_count": 29,
   "id": "d818486a-a3e4-4558-95f8-19f3d608df36",
   "metadata": {},
   "outputs": [
    {
     "data": {
      "text/plain": [
       "SessionKnowledge(created_at='2025-05-04 18:39:41.420946', step='not start', step_remark=None, session_id='57e9aebe-35dc-45a5-bb2a-5e748aa18d0f', knowledge=Knowledge(sections=[KnowledgeSection(section='Test S1', questions=[KnowledgeQuestion(question='Test Q1', retrieved_ids=['a', 'b', 'c']), KnowledgeQuestion(question='Test Q2', retrieved_ids=['a', 'b', 'c'])]), KnowledgeSection(section='Test S2', questions=[KnowledgeQuestion(question='Test Q1', retrieved_ids=['a', 'b', 'c']), KnowledgeQuestion(question='Test Q2', retrieved_ids=['a', 'b', 'c'])])]))"
      ]
     },
     "execution_count": 29,
     "metadata": {},
     "output_type": "execute_result"
    }
   ],
   "source": [
    "import json\n",
    "s_dict = sessionDB.read_all().to_dict(orient=\"records\")[0]\n",
    "SessionKnowledge(session_id=s_dict.get(\"session_id\"), knowledge=json.loads(s_dict.get(\"knowledge\")))"
   ]
  },
  {
   "cell_type": "code",
   "execution_count": 30,
   "id": "6ffe18f8-7694-4957-a776-f890503e0940",
   "metadata": {},
   "outputs": [
    {
     "data": {
      "text/plain": [
       "SessionEnrich(created_at='2025-05-04 18:39:43.302944', step='revise', step_remark=None, session_id='57e9aebe-35dc-45a5-bb2a-5e748aa18d0f', enrich=Enrich(sections=[EnrichSection(section='Test S1', questions=[EnrichQuestion(question='Test Q1', answer='Answer Q1'), EnrichQuestion(question='Test Q2', answer='Answer Q2')]), EnrichSection(section='Test S2', questions=[EnrichQuestion(question='Test Q1', answer='Answer Q1'), EnrichQuestion(question='Test Q2', answer='Answer Q2')])]))"
      ]
     },
     "execution_count": 30,
     "metadata": {},
     "output_type": "execute_result"
    }
   ],
   "source": [
    "en = Enrich(\n",
    "    sections=[\n",
    "        EnrichSection(\n",
    "            section=\"Test S1\",\n",
    "            questions=[\n",
    "                EnrichQuestion(question=\"Test Q1\", answer=\"Answer Q1\"),\n",
    "                EnrichQuestion(question=\"Test Q2\", answer=\"Answer Q2\"),\n",
    "            ]\n",
    "        ),\n",
    "        EnrichSection(\n",
    "            section=\"Test S2\",\n",
    "            questions=[\n",
    "                EnrichQuestion(question=\"Test Q1\", answer=\"Answer Q1\"),\n",
    "                EnrichQuestion(question=\"Test Q2\", answer=\"Answer Q2\"),\n",
    "            ]\n",
    "        ),\n",
    "    ]\n",
    ")\n",
    "sen = SessionEnrich(session_id=session_id, enrich=en, step=SessionStep.REVISE)\n",
    "sen"
   ]
  },
  {
   "cell_type": "code",
   "execution_count": 31,
   "id": "4f2d561d-b1af-4b20-9c36-6e85f8694f06",
   "metadata": {},
   "outputs": [
    {
     "name": "stderr",
     "output_type": "stream",
     "text": [
      "/home/ec2-user/SageMaker/broai-research-rocket/.venv/lib/python3.11/site-packages/pydantic/main.py:463: UserWarning: Pydantic serializer warnings:\n",
      "  PydanticSerializationUnexpectedValue(Expected `datetime` - serialized value may not be as expected [input_value='2025-05-04 18:39:43.302944', input_type=str])\n",
      "  PydanticSerializationUnexpectedValue(Expected `enum` - serialized value may not be as expected [input_value='revise', input_type=str])\n",
      "  return self.__pydantic_serializer__.to_python(\n"
     ]
    },
    {
     "data": {
      "text/plain": [
       "{'created_at': '2025-05-04 18:39:43.302944',\n",
       " 'step': 'revise',\n",
       " 'step_remark': None,\n",
       " 'session_id': '57e9aebe-35dc-45a5-bb2a-5e748aa18d0f',\n",
       " 'enrich': {'sections': [{'section': 'Test S1',\n",
       "    'questions': [{'question': 'Test Q1', 'answer': 'Answer Q1'},\n",
       "     {'question': 'Test Q2', 'answer': 'Answer Q2'}]},\n",
       "   {'section': 'Test S2',\n",
       "    'questions': [{'question': 'Test Q1', 'answer': 'Answer Q1'},\n",
       "     {'question': 'Test Q2', 'answer': 'Answer Q2'}]}]}}"
      ]
     },
     "execution_count": 31,
     "metadata": {},
     "output_type": "execute_result"
    }
   ],
   "source": [
    "sen.model_dump()"
   ]
  },
  {
   "cell_type": "code",
   "execution_count": 32,
   "id": "db375648-4abf-4f74-9fea-bb0f1e1f507b",
   "metadata": {},
   "outputs": [
    {
     "data": {
      "text/html": [
       "<div>\n",
       "<style scoped>\n",
       "    .dataframe tbody tr th:only-of-type {\n",
       "        vertical-align: middle;\n",
       "    }\n",
       "\n",
       "    .dataframe tbody tr th {\n",
       "        vertical-align: top;\n",
       "    }\n",
       "\n",
       "    .dataframe thead th {\n",
       "        text-align: right;\n",
       "    }\n",
       "</style>\n",
       "<table border=\"1\" class=\"dataframe\">\n",
       "  <thead>\n",
       "    <tr style=\"text-align: right;\">\n",
       "      <th></th>\n",
       "      <th>Count</th>\n",
       "    </tr>\n",
       "  </thead>\n",
       "  <tbody>\n",
       "    <tr>\n",
       "      <th>0</th>\n",
       "      <td>1</td>\n",
       "    </tr>\n",
       "  </tbody>\n",
       "</table>\n",
       "</div>"
      ],
      "text/plain": [
       "   Count\n",
       "0      1"
      ]
     },
     "execution_count": 32,
     "metadata": {},
     "output_type": "execute_result"
    }
   ],
   "source": [
    "sessionDB.update_enrich(sen)"
   ]
  },
  {
   "cell_type": "code",
   "execution_count": 33,
   "id": "4b19ba77-b081-44cc-8e04-4ac5b24289e1",
   "metadata": {},
   "outputs": [
    {
     "data": {
      "text/html": [
       "<div>\n",
       "<style scoped>\n",
       "    .dataframe tbody tr th:only-of-type {\n",
       "        vertical-align: middle;\n",
       "    }\n",
       "\n",
       "    .dataframe tbody tr th {\n",
       "        vertical-align: top;\n",
       "    }\n",
       "\n",
       "    .dataframe thead th {\n",
       "        text-align: right;\n",
       "    }\n",
       "</style>\n",
       "<table border=\"1\" class=\"dataframe\">\n",
       "  <thead>\n",
       "    <tr style=\"text-align: right;\">\n",
       "      <th></th>\n",
       "      <th>session_id</th>\n",
       "      <th>user_id</th>\n",
       "      <th>tone_of_voice</th>\n",
       "      <th>outline</th>\n",
       "      <th>step</th>\n",
       "      <th>step_remark</th>\n",
       "      <th>knowledge</th>\n",
       "      <th>enrich</th>\n",
       "      <th>publish</th>\n",
       "      <th>created_at</th>\n",
       "      <th>updated_at</th>\n",
       "    </tr>\n",
       "  </thead>\n",
       "  <tbody>\n",
       "    <tr>\n",
       "      <th>0</th>\n",
       "      <td>57e9aebe-35dc-45a5-bb2a-5e748aa18d0f</td>\n",
       "      <td>5199c1ff-aef5-4149-a77d-ca197ad92330</td>\n",
       "      <td>tone</td>\n",
       "      <td>outline123</td>\n",
       "      <td>revise</td>\n",
       "      <td>None</td>\n",
       "      <td>{\"sections\":[{\"section\":\"Test S1\",\"questions\":...</td>\n",
       "      <td>{\"sections\":[{\"section\":\"Test S1\",\"questions\":...</td>\n",
       "      <td>None</td>\n",
       "      <td>2025-05-04 18:39:11.214452</td>\n",
       "      <td>2025-05-04 18:39:43.302944</td>\n",
       "    </tr>\n",
       "  </tbody>\n",
       "</table>\n",
       "</div>"
      ],
      "text/plain": [
       "                             session_id                               user_id  \\\n",
       "0  57e9aebe-35dc-45a5-bb2a-5e748aa18d0f  5199c1ff-aef5-4149-a77d-ca197ad92330   \n",
       "\n",
       "  tone_of_voice     outline    step step_remark  \\\n",
       "0          tone  outline123  revise        None   \n",
       "\n",
       "                                           knowledge  \\\n",
       "0  {\"sections\":[{\"section\":\"Test S1\",\"questions\":...   \n",
       "\n",
       "                                              enrich publish  \\\n",
       "0  {\"sections\":[{\"section\":\"Test S1\",\"questions\":...    None   \n",
       "\n",
       "                  created_at                 updated_at  \n",
       "0 2025-05-04 18:39:11.214452 2025-05-04 18:39:43.302944  "
      ]
     },
     "execution_count": 33,
     "metadata": {},
     "output_type": "execute_result"
    }
   ],
   "source": [
    "sessionDB.read_all()"
   ]
  },
  {
   "cell_type": "code",
   "execution_count": 36,
   "id": "fa9876e9-733f-47a6-b677-9af59c06aae4",
   "metadata": {},
   "outputs": [
    {
     "data": {
      "text/html": [
       "<div>\n",
       "<style scoped>\n",
       "    .dataframe tbody tr th:only-of-type {\n",
       "        vertical-align: middle;\n",
       "    }\n",
       "\n",
       "    .dataframe tbody tr th {\n",
       "        vertical-align: top;\n",
       "    }\n",
       "\n",
       "    .dataframe thead th {\n",
       "        text-align: right;\n",
       "    }\n",
       "</style>\n",
       "<table border=\"1\" class=\"dataframe\">\n",
       "  <thead>\n",
       "    <tr style=\"text-align: right;\">\n",
       "      <th></th>\n",
       "      <th>Count</th>\n",
       "    </tr>\n",
       "  </thead>\n",
       "  <tbody>\n",
       "    <tr>\n",
       "      <th>0</th>\n",
       "      <td>1</td>\n",
       "    </tr>\n",
       "  </tbody>\n",
       "</table>\n",
       "</div>"
      ],
      "text/plain": [
       "   Count\n",
       "0      1"
      ]
     },
     "execution_count": 36,
     "metadata": {},
     "output_type": "execute_result"
    }
   ],
   "source": [
    "sessionDB.update_publish(SessionPublish(session_id=session_id, step=SessionStep.DONE, publish=\"Test Publish\"))"
   ]
  },
  {
   "cell_type": "code",
   "execution_count": 37,
   "id": "44885741-696c-476d-989d-ee475768be0d",
   "metadata": {},
   "outputs": [
    {
     "data": {
      "text/html": [
       "<div>\n",
       "<style scoped>\n",
       "    .dataframe tbody tr th:only-of-type {\n",
       "        vertical-align: middle;\n",
       "    }\n",
       "\n",
       "    .dataframe tbody tr th {\n",
       "        vertical-align: top;\n",
       "    }\n",
       "\n",
       "    .dataframe thead th {\n",
       "        text-align: right;\n",
       "    }\n",
       "</style>\n",
       "<table border=\"1\" class=\"dataframe\">\n",
       "  <thead>\n",
       "    <tr style=\"text-align: right;\">\n",
       "      <th></th>\n",
       "      <th>session_id</th>\n",
       "      <th>user_id</th>\n",
       "      <th>tone_of_voice</th>\n",
       "      <th>outline</th>\n",
       "      <th>step</th>\n",
       "      <th>step_remark</th>\n",
       "      <th>knowledge</th>\n",
       "      <th>enrich</th>\n",
       "      <th>publish</th>\n",
       "      <th>created_at</th>\n",
       "      <th>updated_at</th>\n",
       "    </tr>\n",
       "  </thead>\n",
       "  <tbody>\n",
       "    <tr>\n",
       "      <th>0</th>\n",
       "      <td>57e9aebe-35dc-45a5-bb2a-5e748aa18d0f</td>\n",
       "      <td>5199c1ff-aef5-4149-a77d-ca197ad92330</td>\n",
       "      <td>tone</td>\n",
       "      <td>outline123</td>\n",
       "      <td>done</td>\n",
       "      <td>None</td>\n",
       "      <td>{\"sections\":[{\"section\":\"Test S1\",\"questions\":...</td>\n",
       "      <td>{\"sections\":[{\"section\":\"Test S1\",\"questions\":...</td>\n",
       "      <td>Test Publish</td>\n",
       "      <td>2025-05-04 18:39:11.214452</td>\n",
       "      <td>2025-05-04 18:41:35.432928</td>\n",
       "    </tr>\n",
       "  </tbody>\n",
       "</table>\n",
       "</div>"
      ],
      "text/plain": [
       "                             session_id                               user_id  \\\n",
       "0  57e9aebe-35dc-45a5-bb2a-5e748aa18d0f  5199c1ff-aef5-4149-a77d-ca197ad92330   \n",
       "\n",
       "  tone_of_voice     outline  step step_remark  \\\n",
       "0          tone  outline123  done        None   \n",
       "\n",
       "                                           knowledge  \\\n",
       "0  {\"sections\":[{\"section\":\"Test S1\",\"questions\":...   \n",
       "\n",
       "                                              enrich       publish  \\\n",
       "0  {\"sections\":[{\"section\":\"Test S1\",\"questions\":...  Test Publish   \n",
       "\n",
       "                  created_at                 updated_at  \n",
       "0 2025-05-04 18:39:11.214452 2025-05-04 18:41:35.432928  "
      ]
     },
     "execution_count": 37,
     "metadata": {},
     "output_type": "execute_result"
    }
   ],
   "source": [
    "sessionDB.read_all()"
   ]
  },
  {
   "cell_type": "code",
   "execution_count": null,
   "id": "4c9740d3-4cc3-455c-aabb-52f4ccfafbfe",
   "metadata": {},
   "outputs": [],
   "source": []
  }
 ],
 "metadata": {
  "kernelspec": {
   "display_name": "broai-rr",
   "language": "python",
   "name": "broai-rr"
  },
  "language_info": {
   "codemirror_mode": {
    "name": "ipython",
    "version": 3
   },
   "file_extension": ".py",
   "mimetype": "text/x-python",
   "name": "python",
   "nbconvert_exporter": "python",
   "pygments_lexer": "ipython3",
   "version": "3.11.12"
  }
 },
 "nbformat": 4,
 "nbformat_minor": 5
}
