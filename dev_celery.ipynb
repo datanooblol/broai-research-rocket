{
 "cells": [
  {
   "cell_type": "markdown",
   "id": "43a67c6b-0b7e-4716-b59c-36778ca36e50",
   "metadata": {},
   "source": [
    "# Step to test  \n",
    "\n",
    "- Check tasks.py for basic setup\n",
    "- Run the below command\n",
    "```bash\n",
    "# docker-compose terminal\n",
    "docker-compose -f docker-compose.yml up\n",
    "```\n",
    "\n",
    "```bash\n",
    "# celery terminal\n",
    "celery -A celery_workers.controller.celery_app worker -l info\n",
    "```"
   ]
  },
  {
   "cell_type": "code",
   "execution_count": 6,
   "id": "c4fad902-e057-4c54-a671-c069b74e02ad",
   "metadata": {},
   "outputs": [],
   "source": [
    "from celery import group, chord\n",
    "from celery.result import AsyncResult, GroupResult\n",
    "# from celery_workers.tasks import start_pipeline, scrape_worker\n",
    "from package.workers.scrape_worker import scrape_worker"
   ]
  },
  {
   "cell_type": "code",
   "execution_count": 8,
   "id": "384badd8-33e0-4a99-8ffc-a799975cac8c",
   "metadata": {},
   "outputs": [],
   "source": [
    "urls = ['https://vegehomecooking.com/pasta-for-kids/',\n",
    " 'https://www.mjandhungryman.com/iron-rich-baby-pasta/',\n",
    " 'https://www.mymoderncookery.com/one-pot-toddler-pasta/',\n",
    " 'https://www.bbcgoodfood.com/recipes/collection/family-pasta-recipes',\n",
    " 'https://whatsupmoms.com/eat/kids-make-homemade-pasta/',\n",
    " 'https://mykidslickthebowl.com/pasta-recipes/',\n",
    " 'https://itsnoteasybeinggreedy.com/baby/three-ingredient-easy-cheesy-pasta-for-kids-new-recipe/']\n",
    "\n",
    "session_id = \"test-scrape\""
   ]
  },
  {
   "cell_type": "code",
   "execution_count": 9,
   "id": "8d3c76f9-040d-490e-8fac-977d7cbf56d7",
   "metadata": {},
   "outputs": [
    {
     "name": "stdout",
     "output_type": "stream",
     "text": [
      "CPU times: user 22.1 ms, sys: 3.36 ms, total: 25.4 ms\n",
      "Wall time: 1.05 s\n"
     ]
    }
   ],
   "source": [
    "%%time\n",
    "jobs = group([scrape_worker.s(session_id=session_id, url=url) for url in urls])\n",
    "results = jobs.apply_async()\n",
    "_ = results.get()\n",
    "# group_id = results.id"
   ]
  },
  {
   "cell_type": "code",
   "execution_count": 10,
   "id": "d7bdaa35-3c13-4804-b448-1b2ef74e2efd",
   "metadata": {},
   "outputs": [
    {
     "data": {
      "text/plain": [
       "[None, None, None, None, None, None, None]"
      ]
     },
     "execution_count": 10,
     "metadata": {},
     "output_type": "execute_result"
    }
   ],
   "source": [
    "_"
   ]
  }
 ],
 "metadata": {
  "kernelspec": {
   "display_name": "broai-rr",
   "language": "python",
   "name": "broai-rr"
  },
  "language_info": {
   "codemirror_mode": {
    "name": "ipython",
    "version": 3
   },
   "file_extension": ".py",
   "mimetype": "text/x-python",
   "name": "python",
   "nbconvert_exporter": "python",
   "pygments_lexer": "ipython3",
   "version": "3.11.12"
  }
 },
 "nbformat": 4,
 "nbformat_minor": 5
}
