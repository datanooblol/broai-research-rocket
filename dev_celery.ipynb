{
 "cells": [
  {
   "cell_type": "markdown",
   "id": "43a67c6b-0b7e-4716-b59c-36778ca36e50",
   "metadata": {},
   "source": [
    "# Step to test  \n",
    "\n",
    "- Check tasks.py for basic setup\n",
    "- Run the below command\n",
    "```bash\n",
    "# docker-compose terminal\n",
    "docker-compose -f docker-compose.yml up\n",
    "```\n",
    "\n",
    "```bash\n",
    "# celery terminal\n",
    "celery -A celery_workers.controller.celery_app worker -l info\n",
    "```"
   ]
  },
  {
   "cell_type": "code",
   "execution_count": 1,
   "id": "c4fad902-e057-4c54-a671-c069b74e02ad",
   "metadata": {},
   "outputs": [],
   "source": [
    "from celery_workers.tasks import start_pipeline"
   ]
  },
  {
   "cell_type": "code",
   "execution_count": 2,
   "id": "f0aab3ce-d2f5-4a07-b7db-641056f5d81c",
   "metadata": {},
   "outputs": [
    {
     "data": {
      "text/plain": [
       "'Delivered'"
      ]
     },
     "execution_count": 2,
     "metadata": {},
     "output_type": "execute_result"
    }
   ],
   "source": [
    "urls = [\n",
    "    \"https://docs.celeryq.dev/en/stable/getting-started/introduction.html\",\n",
    "    \"https://docs.celeryq.dev/en/stable/getting-started/first-steps-with-celery.html\",\n",
    "    \"https://lip17.medium.com/hands-on-learn-python-celery-in-30-minutes-9544aabb70b1\",\n",
    "    \"https://dev.to/tecnosam/celery-pythons-silent-hero-4839\",\n",
    "    \"https://en.wikipedia.org/wiki/Celery_(software)\",\n",
    "    \"https://docs.celeryq.dev/en/stable/getting-started/introduction.html\",\n",
    "]\n",
    "\n",
    "start_pipeline(urls).get()"
   ]
  },
  {
   "cell_type": "code",
   "execution_count": 3,
   "id": "16e675ce-0652-4732-883c-892312fbc02e",
   "metadata": {},
   "outputs": [],
   "source": [
    "from celery_workers.agents_demo import start_agent"
   ]
  },
  {
   "cell_type": "code",
   "execution_count": 4,
   "id": "514ff118-c02f-4456-b139-d7e3f5a14e68",
   "metadata": {},
   "outputs": [
    {
     "name": "stdout",
     "output_type": "stream",
     "text": [
      "Autonomous agent chain launched\n"
     ]
    }
   ],
   "source": [
    "initial_context = {\"history\": [], \"query\": \"How to test Celery agents?\"}\n",
    "start_agent.apply_async(args=[initial_context])\n",
    "print(\"Autonomous agent chain launched\")"
   ]
  },
  {
   "cell_type": "code",
   "execution_count": null,
   "id": "d16778b2-975a-4aab-aab7-dbecd9a7cd00",
   "metadata": {},
   "outputs": [],
   "source": []
  }
 ],
 "metadata": {
  "kernelspec": {
   "display_name": "broai-rr",
   "language": "python",
   "name": "broai-rr"
  },
  "language_info": {
   "codemirror_mode": {
    "name": "ipython",
    "version": 3
   },
   "file_extension": ".py",
   "mimetype": "text/x-python",
   "name": "python",
   "nbconvert_exporter": "python",
   "pygments_lexer": "ipython3",
   "version": "3.11.12"
  }
 },
 "nbformat": 4,
 "nbformat_minor": 5
}
