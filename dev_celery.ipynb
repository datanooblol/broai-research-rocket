{
 "cells": [
  {
   "cell_type": "markdown",
   "id": "43a67c6b-0b7e-4716-b59c-36778ca36e50",
   "metadata": {},
   "source": [
    "# Step to test  \n",
    "\n",
    "- Check tasks.py for basic setup\n",
    "- Run the below command\n",
    "```bash\n",
    "# docker-compose terminal\n",
    "docker-compose -f docker-compose.yml up\n",
    "```\n",
    "\n",
    "```bash\n",
    "# celery terminal\n",
    "celery -A celery_workers.controller.celery_app worker -l info\n",
    "```"
   ]
  },
  {
   "cell_type": "code",
   "execution_count": 1,
   "id": "c4fad902-e057-4c54-a671-c069b74e02ad",
   "metadata": {},
   "outputs": [],
   "source": [
    "from celery_workers.tasks import start_pipeline"
   ]
  },
  {
   "cell_type": "code",
   "execution_count": 4,
   "id": "f0aab3ce-d2f5-4a07-b7db-641056f5d81c",
   "metadata": {},
   "outputs": [
    {
     "data": {
      "text/plain": [
       "'Delivered'"
      ]
     },
     "execution_count": 4,
     "metadata": {},
     "output_type": "execute_result"
    }
   ],
   "source": [
    "urls = [\n",
    "    \"https://docs.celeryq.dev/en/stable/getting-started/introduction.html\",\n",
    "    \"https://docs.celeryq.dev/en/stable/getting-started/first-steps-with-celery.html\",\n",
    "    \"https://lip17.medium.com/hands-on-learn-python-celery-in-30-minutes-9544aabb70b1\",\n",
    "    \"https://dev.to/tecnosam/celery-pythons-silent-hero-4839\",\n",
    "    \"https://en.wikipedia.org/wiki/Celery_(software)\",\n",
    "    \"https://docs.celeryq.dev/en/stable/getting-started/introduction.html\",\n",
    "]\n",
    "\n",
    "start_pipeline(urls).get()"
   ]
  },
  {
   "cell_type": "code",
   "execution_count": 2,
   "id": "16e675ce-0652-4732-883c-892312fbc02e",
   "metadata": {},
   "outputs": [],
   "source": [
    "from celery_workers.agents_demo import start_agent"
   ]
  },
  {
   "cell_type": "code",
   "execution_count": 3,
   "id": "514ff118-c02f-4456-b139-d7e3f5a14e68",
   "metadata": {},
   "outputs": [
    {
     "name": "stdout",
     "output_type": "stream",
     "text": [
      "Autonomous agent chain launched\n"
     ]
    }
   ],
   "source": [
    "initial_context = {\"history\": [], \"query\": \"How to test Celery agents?\"}\n",
    "start_agent.apply_async(args=[initial_context])\n",
    "print(\"Autonomous agent chain launched\")"
   ]
  },
  {
   "cell_type": "code",
   "execution_count": 2,
   "id": "d16778b2-975a-4aab-aab7-dbecd9a7cd00",
   "metadata": {},
   "outputs": [],
   "source": [
    "from package.database.web_register.db import WebDB"
   ]
  },
  {
   "cell_type": "code",
   "execution_count": 3,
   "id": "0c642686-84f8-4504-81cc-f927a83982b5",
   "metadata": {},
   "outputs": [],
   "source": [
    "webDB = WebDB(db_name=\"research-rocket.db\")"
   ]
  },
  {
   "cell_type": "code",
   "execution_count": 4,
   "id": "161662f8-8126-42da-bd2a-28a0b468a0d5",
   "metadata": {},
   "outputs": [
    {
     "data": {
      "text/plain": [
       "['https://www.quora.com/What-did-ancient-Egyptian-pharaohs-do-each-day',\n",
       " 'https://www.ancient-origins.net/history-famous-people/egyptian-pharaoh-life-0019086',\n",
       " 'https://www.worldhistory.org/article/933/daily-life-in-ancient-egypt/',\n",
       " 'https://www.historyskills.com/classroom/ancient-history/anc-role-of-pharaoh-reading/?srsltid=AfmBOopJLuPJDBdTlyz6Q1i2UKrAyYZeYKph8gKWfipaWN7OeJvt-npQ',\n",
       " 'https://www.quora.com/What-was-it-like-to-live-as-a-pharaoh-in-ancient-Egypt-I-mean-like-daily-situations-and-such-What-obligations-did-they-have-and-how-did-they-communicate-with-their-subjects',\n",
       " 'https://en.wikipedia.org/wiki/Functions_of_the_Pharaoh',\n",
       " 'https://vocal.media/fiction/insane-life-of-an-egyptian-pharaoh',\n",
       " 'https://en.wikipedia.org/wiki/Pharaoh',\n",
       " 'https://www.twinkl.com.sg/blog/ancient-egypt-10-facts-about-pharaohs',\n",
       " 'https://en.wikipedia.org/wiki/Ninja']"
      ]
     },
     "execution_count": 4,
     "metadata": {},
     "output_type": "execute_result"
    }
   ],
   "source": [
    "urls = webDB.read_all()['url'].tolist()\n",
    "urls[0:10]"
   ]
  },
  {
   "cell_type": "code",
   "execution_count": 6,
   "id": "663fadc3-4c2e-4bb7-bf66-136b8f84b0cb",
   "metadata": {},
   "outputs": [
    {
     "name": "stdout",
     "output_type": "stream",
     "text": [
      "CPU times: user 625 ms, sys: 188 ms, total: 814 ms\n",
      "Wall time: 5.8 s\n"
     ]
    },
    {
     "data": {
      "text/plain": [
       "'Delivered'"
      ]
     },
     "execution_count": 6,
     "metadata": {},
     "output_type": "execute_result"
    }
   ],
   "source": [
    "%%time\n",
    "session_id = \"mock-id\"\n",
    "start_pipeline(session_id,urls[:50]).get()"
   ]
  },
  {
   "cell_type": "code",
   "execution_count": 7,
   "id": "1e47877c-9149-4042-bf61-fc2a1c8b9996",
   "metadata": {},
   "outputs": [
    {
     "name": "stderr",
     "output_type": "stream",
     "text": [
      "/home/ec2-user/SageMaker/proxy/broai-research-rocket/.venv/lib/python3.11/site-packages/tqdm/auto.py:21: TqdmWarning: IProgress not found. Please update jupyter and ipywidgets. See https://ipywidgets.readthedocs.io/en/stable/user_install.html\n",
      "  from .autonotebook import tqdm as notebook_tqdm\n",
      "/tmp/ipykernel_24665/3805726944.py:2: UserWarning: [EXPERIMENT] You're using an experimental module, which is subject to change in future.: BAAIEmbedding\n",
      "  baai_em = BAAIEmbedding()\n",
      "Fetching 30 files: 100%|██████████| 30/30 [00:00<00:00, 189216.72it/s]\n"
     ]
    }
   ],
   "source": [
    "from broai.experiments.huggingface_embedding import BAAIEmbedding\n",
    "baai_em = BAAIEmbedding()"
   ]
  },
  {
   "cell_type": "code",
   "execution_count": 8,
   "id": "ec5a0891-b9c8-4fb6-b1d4-2a66b282cfc1",
   "metadata": {},
   "outputs": [
    {
     "name": "stderr",
     "output_type": "stream",
     "text": [
      "/tmp/ipykernel_24665/3832052936.py:2: UserWarning: [EXPERIMENT] You're using an experimental module, which is subject to change in future.: DuckVectorStore\n",
      "  knowledgeDB = DuckVectorStore(\n",
      "You're using a XLMRobertaTokenizerFast tokenizer. Please note that with a fast tokenizer, using the `__call__` method is faster than using a method to encode the text followed by a call to the `pad` method to get a padded encoding.\n"
     ]
    }
   ],
   "source": [
    "from broai.experiments.vector_store import DuckVectorStore\n",
    "knowledgeDB = DuckVectorStore(\n",
    "            db_name=\"test.db\",\n",
    "            table=\"knowledge\",\n",
    "            embedding=baai_em\n",
    "        )"
   ]
  },
  {
   "cell_type": "code",
   "execution_count": 9,
   "id": "12d0d7f7-9ee9-46fe-a1a6-3da989daab69",
   "metadata": {},
   "outputs": [],
   "source": [
    "from broai.experiments.web_scraping import scrape_by_jina_ai\n",
    "from broai.experiments.cleanup_markdown import clean_up_markdown_link"
   ]
  },
  {
   "cell_type": "code",
   "execution_count": 14,
   "id": "c51eace2-0480-4514-acdc-5facb254514e",
   "metadata": {},
   "outputs": [],
   "source": [
    "import json\n",
    "import os\n",
    "\n",
    "def load_all_json_files(session_id: str):\n",
    "    dir_path = os.path.join(\"tmp\", session_id)\n",
    "    data_list = []\n",
    "\n",
    "    if not os.path.exists(dir_path):\n",
    "        print(f\"No folder found for session: {session_id}\")\n",
    "        return data_list\n",
    "\n",
    "    for filename in os.listdir(dir_path):\n",
    "        if filename.endswith(\".json\"):\n",
    "            file_path = os.path.join(dir_path, filename)\n",
    "            with open(file_path, \"r\") as f:\n",
    "                try:\n",
    "                    data = json.load(f)\n",
    "                    data_list.append(data)\n",
    "                except json.JSONDecodeError as e:\n",
    "                    print(f\"Skipping {filename}: Invalid JSON - {e}\")\n",
    "\n",
    "    return data_list\n",
    "\n",
    "# Example usage\n",
    "session_id = \"mock-id\"\n",
    "all_data = load_all_json_files(session_id)"
   ]
  },
  {
   "cell_type": "code",
   "execution_count": 15,
   "id": "ccfd45ff-2ac8-4c21-a248-82e498f0dd76",
   "metadata": {},
   "outputs": [
    {
     "data": {
      "text/plain": [
       "50"
      ]
     },
     "execution_count": 15,
     "metadata": {},
     "output_type": "execute_result"
    }
   ],
   "source": [
    "len(all_data)"
   ]
  },
  {
   "cell_type": "code",
   "execution_count": 19,
   "id": "6da27617-06db-4572-8f11-8602d3f52ea9",
   "metadata": {},
   "outputs": [],
   "source": [
    "from broai.interface import Context\n",
    "from broai.experiments.chunk import split_overlap"
   ]
  },
  {
   "cell_type": "code",
   "execution_count": 24,
   "id": "b7c1b8c7-9bd1-4ab5-8f05-557a02278036",
   "metadata": {},
   "outputs": [
    {
     "data": {
      "text/plain": [
       "'test'"
      ]
     },
     "execution_count": 24,
     "metadata": {},
     "output_type": "execute_result"
    }
   ],
   "source": [
    "list({\"test\":\"tost\"}.keys())[0]"
   ]
  },
  {
   "cell_type": "code",
   "execution_count": 25,
   "id": "3a98474d-457c-44be-837b-f98a6b1bd827",
   "metadata": {},
   "outputs": [
    {
     "name": "stderr",
     "output_type": "stream",
     "text": [
      "/tmp/ipykernel_24665/1597514014.py:5: UserWarning: [EXPERIMENT] You're using an experimental module, which is subject to change in future.: split_overlap\n",
      "  contexts = split_overlap([context])\n"
     ]
    }
   ],
   "source": [
    "all_contexts = []\n",
    "for data in all_data:\n",
    "    url = list(data.keys())[0]\n",
    "    context = Context(context=data[url], metadata={\"source\": url})\n",
    "    contexts = split_overlap([context])\n",
    "    all_contexts.extend(contexts)"
   ]
  },
  {
   "cell_type": "code",
   "execution_count": 26,
   "id": "243dc260-56da-4419-9297-0bb660de7367",
   "metadata": {},
   "outputs": [
    {
     "data": {
      "text/plain": [
       "206"
      ]
     },
     "execution_count": 26,
     "metadata": {},
     "output_type": "execute_result"
    }
   ],
   "source": [
    "len(all_contexts)"
   ]
  },
  {
   "cell_type": "code",
   "execution_count": 27,
   "id": "484d9097-a4ef-46d1-88c1-a48eb97fe56b",
   "metadata": {},
   "outputs": [
    {
     "name": "stdout",
     "output_type": "stream",
     "text": [
      "CPU times: user 8.68 s, sys: 106 ms, total: 8.78 s\n",
      "Wall time: 8.49 s\n"
     ]
    }
   ],
   "source": [
    "%%time\n",
    "\n",
    "knowledgeDB.add_contexts(all_contexts)"
   ]
  },
  {
   "cell_type": "code",
   "execution_count": null,
   "id": "2b507056-33c4-476a-a2b2-e4e63d594d48",
   "metadata": {},
   "outputs": [],
   "source": []
  }
 ],
 "metadata": {
  "kernelspec": {
   "display_name": "broai-rr",
   "language": "python",
   "name": "broai-rr"
  },
  "language_info": {
   "codemirror_mode": {
    "name": "ipython",
    "version": 3
   },
   "file_extension": ".py",
   "mimetype": "text/x-python",
   "name": "python",
   "nbconvert_exporter": "python",
   "pygments_lexer": "ipython3",
   "version": "3.11.12"
  }
 },
 "nbformat": 4,
 "nbformat_minor": 5
}
