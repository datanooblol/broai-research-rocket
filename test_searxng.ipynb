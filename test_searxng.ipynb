{
 "cells": [
  {
   "cell_type": "code",
   "execution_count": 18,
   "id": "9a285e60-a64d-4b21-af81-cab37c12986b",
   "metadata": {},
   "outputs": [],
   "source": [
    "import requests"
   ]
  },
  {
   "cell_type": "code",
   "execution_count": 19,
   "id": "96bd6a52-540f-4abc-b309-2bb161c9d45a",
   "metadata": {},
   "outputs": [],
   "source": [
    "base_url = f\"http://localhost:8080/search?format=json\""
   ]
  },
  {
   "cell_type": "code",
   "execution_count": 20,
   "id": "96e18e11-26f8-4606-90bf-58a1d23a3281",
   "metadata": {},
   "outputs": [],
   "source": [
    "# whitelist = \"(site:medium.com OR site:geeksforgeeks.org OR site:towardsdatascience.com)\""
   ]
  },
  {
   "cell_type": "code",
   "execution_count": 21,
   "id": "67f5ed76-6131-453a-a745-dba9402df969",
   "metadata": {},
   "outputs": [],
   "source": []
  },
  {
   "cell_type": "code",
   "execution_count": 22,
   "id": "5ba5caf3-ebb5-414a-b37c-c7c58ff8a175",
   "metadata": {},
   "outputs": [],
   "source": [
    "def get_searxng_query(query, whitelist=None):\n",
    "    if whitelist:\n",
    "        whitelist = [f\"site:{wl}\" for wl in whitelist]\n",
    "        query = f\"{query} ({' OR '.join(whitelist)})\"\n",
    "    return query"
   ]
  },
  {
   "cell_type": "code",
   "execution_count": 34,
   "id": "c294cabb-1d7c-4f7b-ac7d-64da6a5090d1",
   "metadata": {},
   "outputs": [
    {
     "name": "stdout",
     "output_type": "stream",
     "text": [
      "CPU times: user 3.6 ms, sys: 184 μs, total: 3.78 ms\n",
      "Wall time: 1.85 s\n"
     ]
    }
   ],
   "source": [
    "%%time\n",
    "whitelist = [\"medium.com\", \"geeksforgeeks.org\", \"towardsdatascience.com\"]\n",
    "query = \"what does elbow method do in Kmeans clustering?\"\n",
    "params = {\"q\": get_searxng_query(query, whitelist)}\n",
    "# params = {\"q\": get_searxng_query(query)}\n",
    "\n",
    "response = requests.get(base_url, params=params)"
   ]
  },
  {
   "cell_type": "code",
   "execution_count": 35,
   "id": "a0a791df-c37d-40bc-9e9b-98de1a795925",
   "metadata": {},
   "outputs": [
    {
     "name": "stdout",
     "output_type": "stream",
     "text": [
      "CPU times: user 379 μs, sys: 39 μs, total: 418 μs\n",
      "Wall time: 424 μs\n"
     ]
    }
   ],
   "source": [
    "%%time\n",
    "data = response.json()"
   ]
  },
  {
   "cell_type": "code",
   "execution_count": 36,
   "id": "38c3f74e-7eb5-47cf-8209-48a42a7fc68f",
   "metadata": {},
   "outputs": [
    {
     "name": "stdout",
     "output_type": "stream",
     "text": [
      "https://www.geeksforgeeks.org/elbow-method-for-optimal-value-of-k-in-kmeans/\n",
      "https://medium.com/@zalarushirajsinh07/the-elbow-method-finding-the-optimal-number-of-clusters-d297f5aeb189\n",
      "https://www.geeksforgeeks.org/k-means-clustering-introduction/\n",
      "https://medium.com/gopenai/optimizing-k-means-clustering-a-guide-to-using-the-elbow-method-for-determining-the-number-of-877c09b2c174\n",
      "https://origin.geeksforgeeks.org/elbow-method-for-optimal-value-of-k-in-kmeans/\n",
      "https://medium.com/analytics-vidhya/how-to-determine-the-optimal-k-for-k-means-708505d204eb\n",
      "https://medium.com/@sachinsoni600517/the-art-and-science-of-k-means-clustering-a-practical-guide-e71b11638867\n",
      "https://medium.com/geekculture/stop-using-the-elbow-method-96bcfbbbe9fd\n",
      "https://www.geeksforgeeks.org/ml-determine-the-optimal-value-of-k-in-k-means-clustering/\n",
      "https://medium.com/@ayse_nur_safak/elbow-method-for-optimal-value-of-k-in-k-means-clustering-e33a34e8f2a8\n",
      "https://towardsdatascience.com/elbow-method-is-not-sufficient-to-find-best-k-in-k-means-clustering-fc820da0631d\n",
      "https://builtin.com/data-science/elbow-method\n",
      "https://medium.com/@sujathamudadla1213/what-is-the-purpose-of-the-elbow-method-in-k-means-clustering-and-how-does-it-help-determine-the-6c939dc914c3\n",
      "https://towardsdatascience.com/k-means-explained-10349949bd10/\n",
      "https://www.analyticsvidhya.com/blog/2021/01/in-depth-intuition-of-k-means-clustering-algorithm-in-machine-learning/\n",
      "https://medium.com/analytics-vidhya/elbow-method-of-k-means-clustering-algorithm-a0c916adc540\n",
      "https://medium.com/@tarangds/determining-the-optimal-number-of-clusters-using-the-elbow-method-how-when-where-what-and-why-cd1e94b82c1e\n",
      "https://codinginfinite.com/elbow-method-in-python-for-k-means-and-k-modes-clustering/\n",
      "https://vitalflux.com/k-means-elbow-point-method-sse-inertia-plot-python/\n",
      "https://towardsdatascience.com/an-approach-for-choosing-number-of-clusters-for-k-means-c28e614ecb2c\n",
      "https://medium.com/data-and-beyond/k-means-clustering-with-elbow-method-how-to-get-the-optimal-number-of-clusters-automatically-f6d31b47dc9a\n",
      "https://medium.com/mlearning-ai/stop-using-the-elbow-method-to-compute-optimal-clusters-in-k-means-clustering-1f572c587d2e\n",
      "https://medium.com/@mudgalvivek2911/machine-learning-clustering-elbow-method-4e8c2b404a5d\n",
      "https://towardsdatascience.com/silhouette-method-better-than-elbow-method-to-find-optimal-clusters-378d62ff6891\n",
      "https://medium.com/towards-data-science/are-you-still-using-the-elbow-method-5d271b3063bd\n",
      "https://medium.com/@megha.natarajan/deciphering-optimal-clusters-elbow-method-vs-silhouette-method-7e311c604201\n",
      "https://medium.com/@sametgirgin/k-means-clustering-model-in-6-steps-with-python-dfe95e5a5fac\n",
      "CPU times: user 403 μs, sys: 41 μs, total: 444 μs\n",
      "Wall time: 404 μs\n"
     ]
    }
   ],
   "source": [
    "%%time\n",
    "for d in data['results']:\n",
    "    if d['url'].startswith(\"https://\"):\n",
    "        print(d['url'])"
   ]
  },
  {
   "cell_type": "code",
   "execution_count": 45,
   "id": "c898eab1-2b27-4abf-8317-7062bf9c36de",
   "metadata": {},
   "outputs": [],
   "source": [
    "from package.utils.searxng import SearxngSearchOptions, search_searxng\n",
    "\n",
    "opts = SearxngSearchOptions(\n",
    "    engines=[\"google\", \"bing\", \"DuckDuckGo\"],\n",
    "    language=\"en\",\n",
    "    pageno=1\n",
    ")\n",
    "\n",
    "whitelist = [\"medium.com\", \"geeksforgeeks.org\", \"towardsdatascience.com\"]\n",
    "# whitelist = None\n",
    "question = \"what does elbow method do in Kmeans clustering?\"\n",
    "\n",
    "results = search_searxng(query=question, whitelist=whitelist, opts=opts)"
   ]
  },
  {
   "cell_type": "code",
   "execution_count": 46,
   "id": "02002349-8c6a-45e3-8924-2b53aae33ca3",
   "metadata": {},
   "outputs": [
    {
     "name": "stdout",
     "output_type": "stream",
     "text": [
      "https://www.geeksforgeeks.org/elbow-method-for-optimal-value-of-k-in-kmeans/\n",
      "https://medium.com/analytics-vidhya/how-to-determine-the-optimal-k-for-k-means-708505d204eb\n",
      "https://builtin.com/data-science/elbow-method\n",
      "https://medium.com/@sujathamudadla1213/what-is-the-purpose-of-the-elbow-method-in-k-means-clustering-and-how-does-it-help-determine-the-6c939dc914c3\n",
      "https://mljourney.com/what-is-the-elbow-method-used-for-in-k-means-clustering/\n",
      "https://medium.com/@sachinsoni600517/the-art-and-science-of-k-means-clustering-a-practical-guide-e71b11638867\n",
      "https://www.statology.org/elbow-method-in-python/\n",
      "https://www.geeksforgeeks.org/k-means-clustering-introduction/\n",
      "https://www.analyticsvidhya.com/blog/2021/01/in-depth-intuition-of-k-means-clustering-algorithm-in-machine-learning/\n",
      "https://medium.com/@zalarushirajsinh07/the-elbow-method-finding-the-optimal-number-of-clusters-d297f5aeb189\n",
      "https://medium.com/gopenai/optimizing-k-means-clustering-a-guide-to-using-the-elbow-method-for-determining-the-number-of-877c09b2c174\n",
      "https://medium.com/@mudgalvivek2911/machine-learning-clustering-elbow-method-4e8c2b404a5d\n",
      "https://medium.com/geekculture/stop-using-the-elbow-method-96bcfbbbe9fd\n",
      "https://www.statology.org/elbow-method-in-r/\n",
      "https://medium.com/@tarangds/determining-the-optimal-number-of-clusters-using-the-elbow-method-how-when-where-what-and-why-cd1e94b82c1e\n",
      "https://www.jtrive.com/posts/elbow-method/elbow-method.html\n",
      "https://medium.com/@ayse_nur_safak/elbow-method-for-optimal-value-of-k-in-k-means-clustering-e33a34e8f2a8\n"
     ]
    }
   ],
   "source": [
    "for result in results.results:\n",
    "    print(result.url)"
   ]
  },
  {
   "cell_type": "code",
   "execution_count": null,
   "id": "34d0b5b8-06cd-463d-b6a1-0014afe17b5f",
   "metadata": {},
   "outputs": [],
   "source": []
  }
 ],
 "metadata": {
  "kernelspec": {
   "display_name": "broai-rr",
   "language": "python",
   "name": "broai-rr"
  },
  "language_info": {
   "codemirror_mode": {
    "name": "ipython",
    "version": 3
   },
   "file_extension": ".py",
   "mimetype": "text/x-python",
   "name": "python",
   "nbconvert_exporter": "python",
   "pygments_lexer": "ipython3",
   "version": "3.11.12"
  }
 },
 "nbformat": 4,
 "nbformat_minor": 5
}
